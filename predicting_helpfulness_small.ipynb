{
 "cells": [
  {
   "cell_type": "code",
   "execution_count": 2,
   "metadata": {
    "collapsed": true
   },
   "outputs": [],
   "source": [
    "%matplotlib inline\n",
    "import matplotlib.pyplot as plt\n",
    "import pandas as pd\n",
    "import numpy as np\n",
    "import yaml"
   ]
  },
  {
   "cell_type": "code",
   "execution_count": 3,
   "metadata": {
    "collapsed": true
   },
   "outputs": [],
   "source": [
    "with open(\"data/swiss-reviews-helpful-correct.txt\", 'r') as fp:\n",
    "    s_swiss_rev_help = fp.readlines()"
   ]
  },
  {
   "cell_type": "code",
   "execution_count": 4,
   "metadata": {
    "collapsed": false
   },
   "outputs": [
    {
     "data": {
      "text/plain": [
       "10729"
      ]
     },
     "execution_count": 4,
     "metadata": {},
     "output_type": "execute_result"
    }
   ],
   "source": [
    "len(s_swiss_rev_help)"
   ]
  },
  {
   "cell_type": "code",
   "execution_count": 5,
   "metadata": {
    "collapsed": false
   },
   "outputs": [
    {
     "data": {
      "text/plain": [
       "'{\"reviewerID\": \"A08719731S0E5PHVCG6EZ\", \"asin\": \"B005WFPLWA\", \"reviewerName\": \"Sophie Clouet\", \"helpful\": [0, 10], \"reviewText\": \"JE NE VOIS PAS ENCORE D\\'AM&Eacute;LIORATION CONTRE LA PERTE DES CHEVEUX.  JE VERRAI APR&Egrave;S LE TRAITEMENT SI C\\'EST BON OU NON\", \"overall\": 1.0, \"summary\": \"COMMENTAIRE\", \"unixReviewTime\": 1356739200, \"reviewTime\": \"12 29, 2012\"}\\n'"
      ]
     },
     "execution_count": 5,
     "metadata": {},
     "output_type": "execute_result"
    }
   ],
   "source": [
    "s_swiss_rev_help[0]"
   ]
  },
  {
   "cell_type": "code",
   "execution_count": 7,
   "metadata": {
    "collapsed": true
   },
   "outputs": [],
   "source": [
    "# Below to ARI score"
   ]
  },
  {
   "cell_type": "code",
   "execution_count": 8,
   "metadata": {
    "collapsed": false
   },
   "outputs": [],
   "source": [
    "import re\n",
    "import nltk.data\n",
    "from nltk import wordpunct_tokenize\n",
    "\n",
    "s_text = '''There are two ways of constructing a software design:\n",
    "One way is to make it so simple that there are obviously no deficiencies and\n",
    "the other way is to make it so complicated that there are no obvious deficiencies.'''\n",
    "# — C.A.R. Hoare, The 1980 ACM Turing Award Lecture\n",
    "\n",
    "# split into words by punctuations\n",
    "# remove punctuations and all '-' words\n",
    "RE = re.compile('[0-9a-z-]', re.I)\n",
    "s_sent = nltk.data.load('tokenizers/punkt/english.pickle')"
   ]
  },
  {
   "cell_type": "code",
   "execution_count": 9,
   "metadata": {
    "collapsed": true
   },
   "outputs": [],
   "source": [
    "def get_ARI_score(text):\n",
    "    words = list(filter(lambda w: RE.search(w) and w.replace('-', ''), wordpunct_tokenize(text)))\n",
    "    wordc = len(words)\n",
    "    charc = sum(len(w) for w in words)\n",
    "    sents = s_sent.tokenize(text)\n",
    "    sentc = len(sents)\n",
    "    return 4.71 * charc / (wordc + 0.1) + 0.5 * (wordc + 0.1) / (sentc + 0.1) - 21.43"
   ]
  },
  {
   "cell_type": "code",
   "execution_count": 10,
   "metadata": {
    "collapsed": true
   },
   "outputs": [],
   "source": [
    "# Create the feature dictionary:"
   ]
  },
  {
   "cell_type": "code",
   "execution_count": 11,
   "metadata": {
    "collapsed": true
   },
   "outputs": [],
   "source": [
    "def convert_to_dict(line):\n",
    "    l = line.rstrip('\\n')\n",
    "    l = eval(l)\n",
    "    return l"
   ]
  },
  {
   "cell_type": "code",
   "execution_count": 12,
   "metadata": {
    "collapsed": false
   },
   "outputs": [
    {
     "name": "stdout",
     "output_type": "stream",
     "text": [
      "500\n",
      "1000\n",
      "1500\n",
      "2000\n",
      "2500\n",
      "3000\n",
      "3500\n",
      "4000\n",
      "4500\n",
      "5000\n",
      "5500\n",
      "6000\n",
      "6500\n",
      "7000\n",
      "7500\n",
      "8000\n",
      "8500\n",
      "9000\n",
      "9500\n",
      "10000\n",
      "10500\n"
     ]
    }
   ],
   "source": [
    "s_dict_list = []\n",
    "counter = 1\n",
    "for item in s_swiss_rev_help:\n",
    "    if(counter%500 == 0):\n",
    "        print(counter)\n",
    "    counter += 1\n",
    "    s_dict_list.append(convert_to_dict(item))"
   ]
  },
  {
   "cell_type": "code",
   "execution_count": 13,
   "metadata": {
    "collapsed": true
   },
   "outputs": [],
   "source": [
    "s_features = pd.DataFrame(s_dict_list)"
   ]
  },
  {
   "cell_type": "code",
   "execution_count": 14,
   "metadata": {
    "collapsed": true
   },
   "outputs": [],
   "source": [
    "s_features.drop(['reviewTime', 'reviewerName', 'unixReviewTime'],inplace=True,axis=1)"
   ]
  },
  {
   "cell_type": "code",
   "execution_count": 15,
   "metadata": {
    "collapsed": false
   },
   "outputs": [
    {
     "data": {
      "text/html": [
       "<div>\n",
       "<table border=\"1\" class=\"dataframe\">\n",
       "  <thead>\n",
       "    <tr style=\"text-align: right;\">\n",
       "      <th></th>\n",
       "      <th>asin</th>\n",
       "      <th>helpful</th>\n",
       "      <th>overall</th>\n",
       "      <th>reviewText</th>\n",
       "      <th>reviewerID</th>\n",
       "      <th>summary</th>\n",
       "    </tr>\n",
       "  </thead>\n",
       "  <tbody>\n",
       "    <tr>\n",
       "      <th>0</th>\n",
       "      <td>B005WFPLWA</td>\n",
       "      <td>[0, 10]</td>\n",
       "      <td>1.0</td>\n",
       "      <td>JE NE VOIS PAS ENCORE D'AM&amp;Eacute;LIORATION CO...</td>\n",
       "      <td>A08719731S0E5PHVCG6EZ</td>\n",
       "      <td>COMMENTAIRE</td>\n",
       "    </tr>\n",
       "    <tr>\n",
       "      <th>1</th>\n",
       "      <td>B00064FXH0</td>\n",
       "      <td>[17, 20]</td>\n",
       "      <td>1.0</td>\n",
       "      <td>I ordered this thinking it would speed up my r...</td>\n",
       "      <td>A1006UA0557GXP</td>\n",
       "      <td>Great idea...next year when the bugs are worke...</td>\n",
       "    </tr>\n",
       "    <tr>\n",
       "      <th>2</th>\n",
       "      <td>B003VAHYTG</td>\n",
       "      <td>[162, 174]</td>\n",
       "      <td>5.0</td>\n",
       "      <td>I mainly got this set for music and some games...</td>\n",
       "      <td>A100JEV1I8ZHJ8</td>\n",
       "      <td>Quality 2.1 System for Music and Games</td>\n",
       "    </tr>\n",
       "  </tbody>\n",
       "</table>\n",
       "</div>"
      ],
      "text/plain": [
       "         asin     helpful  overall  \\\n",
       "0  B005WFPLWA     [0, 10]      1.0   \n",
       "1  B00064FXH0    [17, 20]      1.0   \n",
       "2  B003VAHYTG  [162, 174]      5.0   \n",
       "\n",
       "                                          reviewText             reviewerID  \\\n",
       "0  JE NE VOIS PAS ENCORE D'AM&Eacute;LIORATION CO...  A08719731S0E5PHVCG6EZ   \n",
       "1  I ordered this thinking it would speed up my r...         A1006UA0557GXP   \n",
       "2  I mainly got this set for music and some games...         A100JEV1I8ZHJ8   \n",
       "\n",
       "                                             summary  \n",
       "0                                        COMMENTAIRE  \n",
       "1  Great idea...next year when the bugs are worke...  \n",
       "2             Quality 2.1 System for Music and Games  "
      ]
     },
     "execution_count": 15,
     "metadata": {},
     "output_type": "execute_result"
    }
   ],
   "source": [
    "s_features.head(3)"
   ]
  },
  {
   "cell_type": "code",
   "execution_count": 16,
   "metadata": {
    "collapsed": false
   },
   "outputs": [],
   "source": [
    "# Review length\n",
    "s_features[\"rev_length\"] = s_features['reviewText'].apply(lambda x: len(x))\n",
    "s_features[\"rev_length\"] = (s_features[\"rev_length\"] - \\\n",
    "                          s_features[\"rev_length\"].mean()) / s_features[\"rev_length\"].std()"
   ]
  },
  {
   "cell_type": "code",
   "execution_count": 17,
   "metadata": {
    "collapsed": true
   },
   "outputs": [],
   "source": [
    "# Number of all caps\n",
    "def count_all_caps(text):\n",
    "    count = 0\n",
    "    for i in text:\n",
    "        if(i.isupper()):\n",
    "            count += 1\n",
    "    return count/(len(text) + 1)"
   ]
  },
  {
   "cell_type": "code",
   "execution_count": 18,
   "metadata": {
    "collapsed": true
   },
   "outputs": [],
   "source": [
    "s_features[\"all_caps\"] = s_features['reviewText'].apply(count_all_caps)\n",
    "s_features[\"all_caps\"] = (s_features[\"all_caps\"] - \\\n",
    "                          s_features[\"all_caps\"].mean()) / s_features[\"all_caps\"].std()"
   ]
  },
  {
   "cell_type": "code",
   "execution_count": 19,
   "metadata": {
    "collapsed": true
   },
   "outputs": [],
   "source": [
    "# Sentence count\n",
    "s_features[\"sent_count\"] = s_features['reviewText'].apply(lambda x: \\\n",
    "                                                      len(nltk.tokenize.sent_tokenize(x)))"
   ]
  },
  {
   "cell_type": "code",
   "execution_count": 20,
   "metadata": {
    "collapsed": true
   },
   "outputs": [],
   "source": [
    "s_features[\"sent_count\"] = (s_features[\"sent_count\"] - \\\n",
    "                          s_features[\"sent_count\"].mean()) / s_features[\"sent_count\"].std()"
   ]
  },
  {
   "cell_type": "code",
   "execution_count": 21,
   "metadata": {
    "collapsed": true
   },
   "outputs": [],
   "source": [
    "# Question and exclamation marks ratio to characters\n",
    "def count_ques_exc_ratio(text):\n",
    "    count = 0\n",
    "    for i in text:\n",
    "        if(i == '!' or i == '?'):\n",
    "            count += 1\n",
    "    return count*1.0/(len(text)+1)"
   ]
  },
  {
   "cell_type": "code",
   "execution_count": 22,
   "metadata": {
    "collapsed": false
   },
   "outputs": [],
   "source": [
    "s_features[\"que_exc_ratio\"] = s_features['reviewText'].apply(count_ques_exc_ratio)\n",
    "s_features[\"que_exc_ratio\"] = (s_features[\"que_exc_ratio\"] - \\\n",
    "                          s_features[\"que_exc_ratio\"].mean()) / s_features[\"que_exc_ratio\"].std()"
   ]
  },
  {
   "cell_type": "code",
   "execution_count": 23,
   "metadata": {
    "collapsed": false
   },
   "outputs": [],
   "source": [
    "# ARI readability index\n",
    "s_features[\"ari_score\"] = s_features['reviewText'].apply(get_ARI_score)"
   ]
  },
  {
   "cell_type": "code",
   "execution_count": 24,
   "metadata": {
    "collapsed": true
   },
   "outputs": [],
   "source": [
    "s_features[\"ari_score\"] = (s_features[\"ari_score\"] - \\\n",
    "                          s_features[\"ari_score\"].mean()) / s_features[\"ari_score\"].std()"
   ]
  },
  {
   "cell_type": "code",
   "execution_count": 25,
   "metadata": {
    "collapsed": false
   },
   "outputs": [],
   "source": [
    "# rating deviation from mean rating score\n",
    "with open(\"data/asin_ratings_small.json\", \"r\") as fp:\n",
    "    s_asin_rev_ratings = fp.readlines()"
   ]
  },
  {
   "cell_type": "code",
   "execution_count": 26,
   "metadata": {
    "collapsed": false
   },
   "outputs": [],
   "source": [
    "s_dict_list_ar = []\n",
    "for item in s_asin_rev_ratings:\n",
    "    s_dict_list_ar.append(convert_to_dict(item))"
   ]
  },
  {
   "cell_type": "code",
   "execution_count": 27,
   "metadata": {
    "collapsed": false
   },
   "outputs": [],
   "source": [
    "s_dict_ar = dict([(key,d[key]) for d in s_dict_list_ar for key in d])"
   ]
  },
  {
   "cell_type": "code",
   "execution_count": 34,
   "metadata": {
    "collapsed": true
   },
   "outputs": [],
   "source": [
    "def get_dev_mean_score(row):\n",
    "    if(row['asin'] in s_dict_ar.keys()):\n",
    "        return row['overall'] - s_dict_ar[row['asin']]\n",
    "    print(\"Should not get here\")\n",
    "    return 0"
   ]
  },
  {
   "cell_type": "code",
   "execution_count": 35,
   "metadata": {
    "collapsed": false
   },
   "outputs": [],
   "source": [
    "s_features['dev_mean_score'] = s_features.apply(get_dev_mean_score, axis=1)"
   ]
  },
  {
   "cell_type": "code",
   "execution_count": 36,
   "metadata": {
    "collapsed": true
   },
   "outputs": [],
   "source": [
    "# should only be standardized after dev_mean_score has been computed\n",
    "s_features[\"overall\"] = (s_features[\"overall\"] - \\\n",
    "                          s_features[\"overall\"].mean()) / s_features[\"overall\"].std()"
   ]
  },
  {
   "cell_type": "code",
   "execution_count": 37,
   "metadata": {
    "collapsed": true
   },
   "outputs": [],
   "source": [
    "s_features[\"dev_mean_score\"] = (s_features[\"dev_mean_score\"] - \\\n",
    "                          s_features[\"dev_mean_score\"].mean()) / s_features[\"dev_mean_score\"].std()"
   ]
  },
  {
   "cell_type": "code",
   "execution_count": 38,
   "metadata": {
    "collapsed": false
   },
   "outputs": [
    {
     "data": {
      "text/plain": [
       "10729"
      ]
     },
     "execution_count": 38,
     "metadata": {},
     "output_type": "execute_result"
    }
   ],
   "source": [
    "len(s_features)"
   ]
  },
  {
   "cell_type": "code",
   "execution_count": 39,
   "metadata": {
    "collapsed": false
   },
   "outputs": [],
   "source": [
    "s_features.drop_duplicates(subset=['asin','reviewText'], keep='first', inplace=True)"
   ]
  },
  {
   "cell_type": "code",
   "execution_count": 41,
   "metadata": {
    "collapsed": false
   },
   "outputs": [
    {
     "data": {
      "text/plain": [
       "10693"
      ]
     },
     "execution_count": 41,
     "metadata": {},
     "output_type": "execute_result"
    }
   ],
   "source": [
    "len(s_features)"
   ]
  },
  {
   "cell_type": "code",
   "execution_count": 42,
   "metadata": {
    "collapsed": false
   },
   "outputs": [],
   "source": [
    "def create_labels(pair):\n",
    "    if(pair[0]*1.0/pair[1] >= 0.6):\n",
    "        return 1\n",
    "    else:\n",
    "        return 0"
   ]
  },
  {
   "cell_type": "code",
   "execution_count": 43,
   "metadata": {
    "collapsed": true
   },
   "outputs": [],
   "source": [
    "s_features['Y'] = s_features['helpful'].apply(create_labels)"
   ]
  },
  {
   "cell_type": "code",
   "execution_count": 102,
   "metadata": {
    "collapsed": false
   },
   "outputs": [],
   "source": [
    "from sklearn.feature_extraction.text import CountVectorizer\n",
    "s_count_vect = CountVectorizer(stop_words='english')\n",
    "s_X_train_counts = s_count_vect.fit_transform(list(s_features['reviewText']))"
   ]
  },
  {
   "cell_type": "code",
   "execution_count": 47,
   "metadata": {
    "collapsed": false
   },
   "outputs": [
    {
     "data": {
      "text/plain": [
       "(10693, 36391)"
      ]
     },
     "execution_count": 47,
     "metadata": {},
     "output_type": "execute_result"
    }
   ],
   "source": [
    "s_X_train_counts.shape"
   ]
  },
  {
   "cell_type": "code",
   "execution_count": 48,
   "metadata": {
    "collapsed": true
   },
   "outputs": [],
   "source": [
    "from sklearn.feature_extraction.text import TfidfTransformer\n",
    "s_tf_transformer = TfidfTransformer().fit(s_X_train_counts)\n",
    "s_X_train_tf = s_tf_transformer.transform(s_X_train_counts)"
   ]
  },
  {
   "cell_type": "code",
   "execution_count": 49,
   "metadata": {
    "collapsed": false
   },
   "outputs": [
    {
     "data": {
      "text/plain": [
       "(10693, 36391)"
      ]
     },
     "execution_count": 49,
     "metadata": {},
     "output_type": "execute_result"
    }
   ],
   "source": [
    "s_X_train_tf.shape"
   ]
  },
  {
   "cell_type": "code",
   "execution_count": 50,
   "metadata": {
    "collapsed": true
   },
   "outputs": [],
   "source": [
    "from sklearn.preprocessing import scale, MaxAbsScaler, maxabs_scale"
   ]
  },
  {
   "cell_type": "code",
   "execution_count": 51,
   "metadata": {
    "collapsed": false
   },
   "outputs": [
    {
     "data": {
      "text/plain": [
       "<10693x36391 sparse matrix of type '<class 'numpy.float64'>'\n",
       "\twith 737288 stored elements in Compressed Sparse Row format>"
      ]
     },
     "execution_count": 51,
     "metadata": {},
     "output_type": "execute_result"
    }
   ],
   "source": [
    "maxabs_scale(s_X_train_tf, copy=False)"
   ]
  },
  {
   "cell_type": "code",
   "execution_count": 52,
   "metadata": {
    "collapsed": true
   },
   "outputs": [],
   "source": [
    "s_Y = s_features.as_matrix(['Y'])"
   ]
  },
  {
   "cell_type": "code",
   "execution_count": 53,
   "metadata": {
    "collapsed": false
   },
   "outputs": [
    {
     "data": {
      "text/plain": [
       "(10693, 1)"
      ]
     },
     "execution_count": 53,
     "metadata": {},
     "output_type": "execute_result"
    }
   ],
   "source": [
    "s_Y.shape"
   ]
  },
  {
   "cell_type": "code",
   "execution_count": 54,
   "metadata": {
    "collapsed": true
   },
   "outputs": [],
   "source": [
    "s_X_train_else = s_features.as_matrix(['overall','rev_length','all_caps','sent_count','que_exc_ratio',\n",
    "                                   'ari_score', 'dev_mean_score'])"
   ]
  },
  {
   "cell_type": "code",
   "execution_count": 55,
   "metadata": {
    "collapsed": false
   },
   "outputs": [
    {
     "data": {
      "text/plain": [
       "numpy.ndarray"
      ]
     },
     "execution_count": 55,
     "metadata": {},
     "output_type": "execute_result"
    }
   ],
   "source": [
    "type(s_X_train_else)"
   ]
  },
  {
   "cell_type": "code",
   "execution_count": 56,
   "metadata": {
    "collapsed": false
   },
   "outputs": [],
   "source": [
    "from scipy.sparse import hstack\n",
    "s_X = hstack([s_X_train_tf, s_X_train_else])"
   ]
  },
  {
   "cell_type": "code",
   "execution_count": 57,
   "metadata": {
    "collapsed": false
   },
   "outputs": [
    {
     "data": {
      "text/plain": [
       "scipy.sparse.coo.coo_matrix"
      ]
     },
     "execution_count": 57,
     "metadata": {},
     "output_type": "execute_result"
    }
   ],
   "source": [
    "type(s_X)"
   ]
  },
  {
   "cell_type": "code",
   "execution_count": 58,
   "metadata": {
    "collapsed": false
   },
   "outputs": [
    {
     "data": {
      "text/plain": [
       "(10693, 36398)"
      ]
     },
     "execution_count": 58,
     "metadata": {},
     "output_type": "execute_result"
    }
   ],
   "source": [
    "s_X.shape"
   ]
  },
  {
   "cell_type": "code",
   "execution_count": 59,
   "metadata": {
    "collapsed": false
   },
   "outputs": [
    {
     "data": {
      "text/plain": [
       "(10693, 1)"
      ]
     },
     "execution_count": 59,
     "metadata": {},
     "output_type": "execute_result"
    }
   ],
   "source": [
    "s_Y.shape"
   ]
  },
  {
   "cell_type": "code",
   "execution_count": 61,
   "metadata": {
    "collapsed": false
   },
   "outputs": [],
   "source": [
    "s_Y = s_Y.reshape((s_Y.shape[0],))"
   ]
  },
  {
   "cell_type": "code",
   "execution_count": 62,
   "metadata": {
    "collapsed": false
   },
   "outputs": [
    {
     "data": {
      "text/plain": [
       "(10693,)"
      ]
     },
     "execution_count": 62,
     "metadata": {},
     "output_type": "execute_result"
    }
   ],
   "source": [
    "s_Y.shape"
   ]
  },
  {
   "cell_type": "code",
   "execution_count": 63,
   "metadata": {
    "collapsed": true
   },
   "outputs": [],
   "source": [
    "# Time for some machine learning"
   ]
  },
  {
   "cell_type": "code",
   "execution_count": 64,
   "metadata": {
    "collapsed": true
   },
   "outputs": [],
   "source": [
    "from sklearn.ensemble import RandomForestClassifier, AdaBoostClassifier\n",
    "from sklearn.linear_model import LogisticRegression\n",
    "from sklearn.svm import SVC\n",
    "from sklearn.naive_bayes import GaussianNB\n",
    "from sklearn import preprocessing\n",
    "from sklearn.model_selection import train_test_split, cross_val_score, cross_val_predict\n",
    "from sklearn.metrics import confusion_matrix, roc_curve"
   ]
  },
  {
   "cell_type": "code",
   "execution_count": 66,
   "metadata": {
    "collapsed": false
   },
   "outputs": [],
   "source": [
    "s_cllr = LogisticRegression(class_weight='balanced', n_jobs=-1, C=1e2)"
   ]
  },
  {
   "cell_type": "code",
   "execution_count": 82,
   "metadata": {
    "collapsed": true
   },
   "outputs": [],
   "source": [
    "x_tr, x_te, y_tr, y_te = train_test_split(s_X, s_Y, train_size=0.8)"
   ]
  },
  {
   "cell_type": "code",
   "execution_count": 83,
   "metadata": {
    "collapsed": false
   },
   "outputs": [
    {
     "name": "stdout",
     "output_type": "stream",
     "text": [
      "Test set accuracy: 0.861150070126\n",
      "Train set accuracy: 0.999532382511\n"
     ]
    }
   ],
   "source": [
    "s_cllr.fit(x_tr, y_tr)\n",
    "print(\"Test set accuracy:\" , s_cllr.score(x_te, y_te))\n",
    "print(\"Train set accuracy:\", s_cllr.score(x_tr, y_tr))"
   ]
  },
  {
   "cell_type": "code",
   "execution_count": 65,
   "metadata": {
    "collapsed": false
   },
   "outputs": [],
   "source": [
    "s_clrf = RandomForestClassifier(n_estimators = 10, class_weight='balanced', n_jobs=-1)"
   ]
  },
  {
   "cell_type": "code",
   "execution_count": 85,
   "metadata": {
    "collapsed": false
   },
   "outputs": [
    {
     "name": "stdout",
     "output_type": "stream",
     "text": [
      "Test set accuracy: 0.849462365591\n",
      "Train set accuracy: 0.996142155717\n"
     ]
    }
   ],
   "source": [
    "s_clrf.fit(x_tr, y_tr)\n",
    "print(\"Test set accuracy:\" , s_clrf.score(x_te, y_te))\n",
    "print(\"Train set accuracy:\", s_clrf.score(x_tr, y_tr))"
   ]
  },
  {
   "cell_type": "code",
   "execution_count": 67,
   "metadata": {
    "collapsed": false
   },
   "outputs": [],
   "source": [
    "s_clab = AdaBoostClassifier()"
   ]
  },
  {
   "cell_type": "code",
   "execution_count": 84,
   "metadata": {
    "collapsed": false
   },
   "outputs": [
    {
     "name": "stdout",
     "output_type": "stream",
     "text": [
      "Test set accuracy: 0.847124824684\n",
      "Train set accuracy: 0.849777881693\n"
     ]
    }
   ],
   "source": [
    "s_clab.fit(x_tr, y_tr)\n",
    "print(\"Test set accuracy:\" , s_clab.score(x_te, y_te))\n",
    "print(\"Train set accuracy:\", s_clab.score(x_tr, y_tr))"
   ]
  },
  {
   "cell_type": "code",
   "execution_count": 68,
   "metadata": {
    "collapsed": false
   },
   "outputs": [],
   "source": [
    "# C could be tuned\n",
    "s_clsvc = SVC(class_weight='balanced', kernel='linear', probability=True)"
   ]
  },
  {
   "cell_type": "code",
   "execution_count": 86,
   "metadata": {
    "collapsed": false
   },
   "outputs": [
    {
     "name": "stdout",
     "output_type": "stream",
     "text": [
      "Test set accuracy: 0.859280037401\n",
      "Train set accuracy: 0.999064765022\n"
     ]
    }
   ],
   "source": [
    "s_clsvc.fit(x_tr, y_tr)\n",
    "print(\"Test set accuracy:\" , s_clsvc.score(x_te, y_te))\n",
    "print(\"Train set accuracy:\", s_clsvc.score(x_tr, y_tr))"
   ]
  },
  {
   "cell_type": "code",
   "execution_count": 284,
   "metadata": {
    "collapsed": false
   },
   "outputs": [
    {
     "name": "stdout",
     "output_type": "stream",
     "text": [
      "Test set accuracy: 0.855072463768\n",
      "Train set accuracy: 0.995206920739\n"
     ]
    }
   ],
   "source": [
    "clrf.fit(x_tr, y_tr)\n",
    "print(\"Test set accuracy:\" , clsf.score(x_te, y_te))\n",
    "print(\"Train set accuracy:\", clsf.score(x_tr, y_tr))"
   ]
  },
  {
   "cell_type": "code",
   "execution_count": 285,
   "metadata": {
    "collapsed": true
   },
   "outputs": [],
   "source": [
    "acc = cross_val_score(clrf, X, Y, cv=10, n_jobs=-1)"
   ]
  },
  {
   "cell_type": "code",
   "execution_count": 286,
   "metadata": {
    "collapsed": false
   },
   "outputs": [
    {
     "data": {
      "text/plain": [
       "array([ 0.79345794,  0.79813084,  0.84205607,  0.81869159,  0.797942  ,\n",
       "        0.78110384,  0.80636109,  0.80449018,  0.79232928,  0.80898876])"
      ]
     },
     "execution_count": 286,
     "metadata": {},
     "output_type": "execute_result"
    }
   ],
   "source": [
    "acc"
   ]
  },
  {
   "cell_type": "code",
   "execution_count": 287,
   "metadata": {
    "collapsed": false
   },
   "outputs": [
    {
     "name": "stdout",
     "output_type": "stream",
     "text": [
      "Bias:  0.195644840756\n",
      "variance:  0.000253627037173\n"
     ]
    }
   ],
   "source": [
    "print(\"Bias: \", 1 - np.mean(acc))\n",
    "print(\"variance: \", np.std(acc)**2)"
   ]
  },
  {
   "cell_type": "code",
   "execution_count": 288,
   "metadata": {
    "collapsed": true
   },
   "outputs": [],
   "source": [
    "f1s = cross_val_score(clsf, X, Y, cv=10, scoring='f1', n_jobs=-1)"
   ]
  },
  {
   "cell_type": "code",
   "execution_count": 289,
   "metadata": {
    "collapsed": false
   },
   "outputs": [
    {
     "data": {
      "text/plain": [
       "array([ 0.87335244,  0.87586207,  0.90134267,  0.88850575,  0.87485516,\n",
       "        0.86597938,  0.87802004,  0.87981599,  0.87152778,  0.88221709])"
      ]
     },
     "execution_count": 289,
     "metadata": {},
     "output_type": "execute_result"
    }
   ],
   "source": [
    "f1s"
   ]
  },
  {
   "cell_type": "code",
   "execution_count": 290,
   "metadata": {
    "collapsed": true
   },
   "outputs": [],
   "source": [
    "roc_aucs = cross_val_score(clsf, X, Y, cv=10, scoring='roc_auc', n_jobs=-1)"
   ]
  },
  {
   "cell_type": "code",
   "execution_count": 291,
   "metadata": {
    "collapsed": false
   },
   "outputs": [
    {
     "data": {
      "text/plain": [
       "array([ 0.8120666 ,  0.78800381,  0.84116938,  0.80727228,  0.75824864,\n",
       "        0.7543183 ,  0.7792544 ,  0.7829971 ,  0.77979197,  0.81650301])"
      ]
     },
     "execution_count": 291,
     "metadata": {},
     "output_type": "execute_result"
    }
   ],
   "source": [
    "roc_aucs"
   ]
  },
  {
   "cell_type": "code",
   "execution_count": 292,
   "metadata": {
    "collapsed": true
   },
   "outputs": [],
   "source": [
    "# Predict values"
   ]
  },
  {
   "cell_type": "code",
   "execution_count": 70,
   "metadata": {
    "collapsed": false
   },
   "outputs": [],
   "source": [
    "s_y_pred_rf = cross_val_predict(s_clrf, s_X, s_Y, cv=10, n_jobs=-1)"
   ]
  },
  {
   "cell_type": "code",
   "execution_count": 71,
   "metadata": {
    "collapsed": false
   },
   "outputs": [],
   "source": [
    "s_y_pred_lr = cross_val_predict(s_cllr, s_X, s_Y, cv=10, n_jobs=-1)"
   ]
  },
  {
   "cell_type": "code",
   "execution_count": 73,
   "metadata": {
    "collapsed": false
   },
   "outputs": [],
   "source": [
    "s_y_pred_ab = cross_val_predict(s_clab, s_X, s_Y, cv=10, n_jobs=-1)"
   ]
  },
  {
   "cell_type": "code",
   "execution_count": 74,
   "metadata": {
    "collapsed": true
   },
   "outputs": [],
   "source": [
    "s_y_pred_svc = cross_val_predict(s_clsvc, s_X, s_Y, cv=10, n_jobs=-1)"
   ]
  },
  {
   "cell_type": "code",
   "execution_count": 76,
   "metadata": {
    "collapsed": false
   },
   "outputs": [],
   "source": [
    "s_cm = confusion_matrix(s_Y, s_y_pred_svc)"
   ]
  },
  {
   "cell_type": "code",
   "execution_count": 77,
   "metadata": {
    "collapsed": false
   },
   "outputs": [],
   "source": [
    "import itertools\n",
    "def plot_confusion_matrix(cm, classes,\n",
    "                          normalize=False,\n",
    "                          title='Confusion matrix',\n",
    "                          cmap=plt.cm.Blues):\n",
    "    \"\"\"\n",
    "    This function prints and plots the confusion matrix.\n",
    "    Normalization can be applied by setting `normalize=True`.\n",
    "    \"\"\"\n",
    "    plt.imshow(cm, interpolation='nearest', cmap=cmap)\n",
    "    plt.title(title)\n",
    "    plt.colorbar()\n",
    "    tick_marks = np.arange(len(classes))\n",
    "    plt.xticks(tick_marks, classes, rotation=45)\n",
    "    plt.yticks(tick_marks, classes)\n",
    "\n",
    "    if normalize:\n",
    "        cm = cm.astype('float') / cm.sum(axis=1)[:, np.newaxis]\n",
    "        print(\"Normalized confusion matrix\")\n",
    "    else:\n",
    "        print('Confusion matrix, without normalization')\n",
    "\n",
    "    print(cm)\n",
    "\n",
    "    thresh = cm.max() / 2.\n",
    "    for i, j in itertools.product(range(cm.shape[0]), range(cm.shape[1])):\n",
    "        plt.text(j, i, cm[i, j],\n",
    "                 horizontalalignment=\"center\",\n",
    "                 color=\"white\" if cm[i, j] > thresh else \"black\")\n",
    "    plt.tight_layout()\n",
    "    plt.ylabel('True label')\n",
    "    plt.xlabel('Predicted label')"
   ]
  },
  {
   "cell_type": "code",
   "execution_count": 78,
   "metadata": {
    "collapsed": false
   },
   "outputs": [
    {
     "name": "stdout",
     "output_type": "stream",
     "text": [
      "Confusion matrix, without normalization\n",
      "[[1310 1059]\n",
      " [ 844 7480]]\n"
     ]
    },
    {
     "data": {
      "image/png": "[encoded data removed]",
      "text/plain": [
       "<matplotlib.figure.Figure at 0x7f33981d7fd0>"
      ]
     },
     "metadata": {},
     "output_type": "display_data"
    }
   ],
   "source": [
    "# Plot non-normalized confusion matrix\n",
    "plt.figure()\n",
    "plot_confusion_matrix(s_cm, classes=['Unhelpful', 'Helpful'],\n",
    "                      title='Confusion matrix, without normalization')\n",
    "plt.show()"
   ]
  },
  {
   "cell_type": "code",
   "execution_count": 79,
   "metadata": {
    "collapsed": true
   },
   "outputs": [],
   "source": [
    "# plot roc-curve"
   ]
  },
  {
   "cell_type": "code",
   "execution_count": 88,
   "metadata": {
    "collapsed": false
   },
   "outputs": [],
   "source": [
    "s_y_pred_lr2 = s_cllr.predict_proba(s_X)[:, 1]"
   ]
  },
  {
   "cell_type": "code",
   "execution_count": 89,
   "metadata": {
    "collapsed": false
   },
   "outputs": [],
   "source": [
    "s_y_pred_rf2 = s_clrf.predict_proba(s_X)[:, 1]"
   ]
  },
  {
   "cell_type": "code",
   "execution_count": 90,
   "metadata": {
    "collapsed": true
   },
   "outputs": [],
   "source": [
    "s_y_pred_ab2 = s_clab.predict_proba(s_X)[:, 1]"
   ]
  },
  {
   "cell_type": "code",
   "execution_count": 91,
   "metadata": {
    "collapsed": false
   },
   "outputs": [],
   "source": [
    "s_y_pred_svc2 = s_clsvc.predict_proba(s_X)[:, 1]"
   ]
  },
  {
   "cell_type": "code",
   "execution_count": 92,
   "metadata": {
    "collapsed": false
   },
   "outputs": [
    {
     "data": {
      "image/png": "[encoded data removed]",
      "text/plain": [
       "<matplotlib.figure.Figure at 0x7f339830ecc0>"
      ]
     },
     "metadata": {},
     "output_type": "display_data"
    }
   ],
   "source": [
    "# IMPORTANT: first argument is true values, second argument is predicted probabilities\n",
    "s_fpr_lr, s_tpr_lr, thresholds = roc_curve(s_Y, s_y_pred_lr2)\n",
    "s_fpr_rf, s_tpr_rf, thresholds = roc_curve(s_Y, s_y_pred_rf2)\n",
    "s_fpr_ab, s_tpr_ab, thresholds = roc_curve(s_Y, s_y_pred_ab2)\n",
    "s_fpr_svc, s_tpr_svc, thresholds = roc_curve(s_Y, s_y_pred_svc2)\n",
    "plt.plot(s_fpr_lr, s_tpr_lr)\n",
    "plt.plot(s_fpr_rf, s_tpr_rf)\n",
    "plt.plot(s_fpr_ab, s_tpr_ab)\n",
    "plt.plot(s_fpr_svc, s_tpr_svc)\n",
    "plt.xlim([0.0, 1.0])\n",
    "plt.ylim([0.0, 1.0])\n",
    "plt.title('ROC curve for predicting swiss review helpfulness')\n",
    "plt.xlabel('False Positive Rate (1 - Specificity)')\n",
    "plt.ylabel('True Positive Rate (Sensitivity)')\n",
    "plt.legend(['Log reg', 'Random forest', 'AdaBoost', 'SVC'], loc='upper right')\n",
    "plt.grid(True)"
   ]
  },
  {
   "cell_type": "code",
   "execution_count": 93,
   "metadata": {
    "collapsed": true
   },
   "outputs": [],
   "source": [
    "# feature importance"
   ]
  },
  {
   "cell_type": "code",
   "execution_count": 94,
   "metadata": {
    "collapsed": true
   },
   "outputs": [],
   "source": [
    "s_words_list = s_count_vect.get_feature_names()\n",
    "s_other_feats = ['overall','rev_length','all_caps','sent_count','que_exc_ratio',\n",
    "                                   'ari_score', 'dev_mean_score']\n",
    "s_feature_names = s_words_list + s_other_feats"
   ]
  },
  {
   "cell_type": "code",
   "execution_count": 99,
   "metadata": {
    "collapsed": false
   },
   "outputs": [
    {
     "data": {
      "text/plain": [
       "'000305'"
      ]
     },
     "execution_count": 99,
     "metadata": {},
     "output_type": "execute_result"
    }
   ],
   "source": [
    "s_feature_names[10]"
   ]
  },
  {
   "cell_type": "code",
   "execution_count": 95,
   "metadata": {
    "collapsed": false
   },
   "outputs": [
    {
     "data": {
      "text/plain": [
       "36398"
      ]
     },
     "execution_count": 95,
     "metadata": {},
     "output_type": "execute_result"
    }
   ],
   "source": [
    "len(s_feature_names)"
   ]
  },
  {
   "cell_type": "code",
   "execution_count": 96,
   "metadata": {
    "collapsed": false
   },
   "outputs": [
    {
     "data": {
      "text/plain": [
       "36398"
      ]
     },
     "execution_count": 96,
     "metadata": {},
     "output_type": "execute_result"
    }
   ],
   "source": [
    "s_X.shape[1]"
   ]
  },
  {
   "cell_type": "code",
   "execution_count": 118,
   "metadata": {
    "collapsed": true
   },
   "outputs": [],
   "source": [
    "number = 10\n",
    "importances = s_clrf.feature_importances_\n",
    "#std = np.std([tree.feature_importances_ for tree in clsf.estimators_], axis=0)\n",
    "indices = np.argsort(importances)[::-1]\n",
    "\n",
    "temp_names = []\n",
    "for i in range(number):\n",
    "    temp_names.append(s_feature_names[indices[i]])"
   ]
  },
  {
   "cell_type": "code",
   "execution_count": 120,
   "metadata": {
    "collapsed": false
   },
   "outputs": [
    {
     "data": {
      "image/png": "[encoded data removed]",
      "text/plain": [
       "<matplotlib.figure.Figure at 0x7f33755ba2e8>"
      ]
     },
     "metadata": {},
     "output_type": "display_data"
    },
    {
     "name": "stdout",
     "output_type": "stream",
     "text": [
      "Feature ranking:\n",
      "1. feature overall (0.072625)\n",
      "2. feature dev_mean_score (0.057283)\n",
      "3. feature rev_length (0.013988)\n",
      "4. feature all_caps (0.012193)\n",
      "5. feature sent_count (0.007487)\n",
      "6. feature que_exc_ratio (0.006943)\n",
      "7. feature ari_score (0.006570)\n",
      "8. feature used (0.004653)\n",
      "9. feature love (0.004637)\n",
      "10. feature bag (0.003273)\n"
     ]
    }
   ],
   "source": [
    "\n",
    "#Plot the feature importances of the forest\n",
    "plt.figure(figsize=(20,10))\n",
    "plt.title(\"Feature importances\", fontsize=20)\n",
    "plt.bar(range(number), importances[indices[:number]],\n",
    "       color=\"r\", align=\"center\")#, yerr=std[indices])\n",
    "plt.xticks(range(number), temp_names, fontsize=20, rotation=45)\n",
    "plt.xlim([-1, number])\n",
    "plt.show()\n",
    "\n",
    "# Print the feature ranking\n",
    "print(\"Feature ranking:\")\n",
    "\n",
    "for f in range(number):\n",
    "    print(\"%d. feature %s (%f)\" % (f + 1,  s_feature_names[indices[f]], importances[indices[f]]))\n"
   ]
  },
  {
   "cell_type": "code",
   "execution_count": 106,
   "metadata": {
    "collapsed": false
   },
   "outputs": [
    {
     "data": {
      "text/plain": [
       "array([ 0.01398794,  0.01219323,  0.00748682,  0.00694306,  0.00657042,\n",
       "        0.0572833 ])"
      ]
     },
     "execution_count": 106,
     "metadata": {},
     "output_type": "execute_result"
    }
   ],
   "source": [
    "importances[len(importances)-6:]"
   ]
  },
  {
   "cell_type": "code",
   "execution_count": 111,
   "metadata": {
    "collapsed": false
   },
   "outputs": [
    {
     "data": {
      "text/plain": [
       "array([[ 1.05951165, -0.04377403, -0.42685999, ..., -0.32257477,\n",
       "        -0.40363764,  3.71442716]])"
      ]
     },
     "execution_count": 111,
     "metadata": {},
     "output_type": "execute_result"
    }
   ],
   "source": [
    "s_cllr.coef_"
   ]
  },
  {
   "cell_type": "code",
   "execution_count": null,
   "metadata": {
    "collapsed": true
   },
   "outputs": [],
   "source": []
  }
 ],
 "metadata": {
  "anaconda-cloud": {},
  "kernelspec": {
   "display_name": "Python 3",
   "language": "python",
   "name": "python3"
  },
  "language_info": {
   "codemirror_mode": {
    "name": "ipython",
    "version": 3
   },
   "file_extension": ".py",
   "mimetype": "text/x-python",
   "name": "python",
   "nbconvert_exporter": "python",
   "pygments_lexer": "ipython3",
   "version": "3.5.2"
  }
 },
 "nbformat": 4,
 "nbformat_minor": 1
}
