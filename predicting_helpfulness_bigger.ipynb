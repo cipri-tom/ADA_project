{
 "cells": [
  {
   "cell_type": "code",
   "execution_count": 1,
   "metadata": {
    "collapsed": true
   },
   "outputs": [],
   "source": [
    "%matplotlib inline\n",
    "import matplotlib.pyplot as plt\n",
    "import pandas as pd\n",
    "import numpy as np\n",
    "import yaml"
   ]
  },
  {
   "cell_type": "code",
   "execution_count": 2,
   "metadata": {
    "collapsed": true
   },
   "outputs": [],
   "source": [
    "with open(\"data/swiss-reviews-helpful-correct-bigger.txt\", 'r') as fp:\n",
    "    swiss_rev_help = fp.readlines()"
   ]
  },
  {
   "cell_type": "code",
   "execution_count": 3,
   "metadata": {
    "collapsed": false
   },
   "outputs": [
    {
     "data": {
      "text/plain": [
       "23755"
      ]
     },
     "execution_count": 3,
     "metadata": {},
     "output_type": "execute_result"
    }
   ],
   "source": [
    "len(swiss_rev_help)"
   ]
  },
  {
   "cell_type": "code",
   "execution_count": 4,
   "metadata": {
    "collapsed": false
   },
   "outputs": [
    {
     "data": {
      "text/plain": [
       "'{\"reviewerID\": \"A05423363IP01ZGDN77PM\", \"asin\": \"B006TIEY40\", \"reviewerName\": \"Francis C.\", \"helpful\": [4, 6], \"reviewText\": \"Have used it for several trips already. Very satisfied. Fits in overhead compartment. Excellent quality and so far durable. Great for overnight trips.\", \"overall\": 5.0, \"summary\": \"Perfect carry-on spinner\", \"unixReviewTime\": 1372032000, \"reviewTime\": \"06 24, 2013\"}\\n'"
      ]
     },
     "execution_count": 4,
     "metadata": {},
     "output_type": "execute_result"
    }
   ],
   "source": [
    "swiss_rev_help[0]"
   ]
  },
  {
   "cell_type": "code",
   "execution_count": 5,
   "metadata": {
    "collapsed": true
   },
   "outputs": [],
   "source": [
    "def filter_info(line):\n",
    "    l = line.rstrip('\\n')\n",
    "    l = yaml.load(l)\n",
    "    if('reviewText' in l.keys()):\n",
    "        return l['reviewText']\n",
    "    else:\n",
    "        return ''"
   ]
  },
  {
   "cell_type": "code",
   "execution_count": null,
   "metadata": {
    "collapsed": false
   },
   "outputs": [],
   "source": [
    "# Only the review texts\n",
    "rev_samples = []\n",
    "for i in range(len(swiss_rev_help)):\n",
    "    rev_samples.append(filter_info(swiss_rev_help[i]))"
   ]
  },
  {
   "cell_type": "code",
   "execution_count": 7,
   "metadata": {
    "collapsed": true
   },
   "outputs": [],
   "source": [
    "# Below to ARI score"
   ]
  },
  {
   "cell_type": "code",
   "execution_count": 8,
   "metadata": {
    "collapsed": false
   },
   "outputs": [],
   "source": [
    "import re\n",
    "import nltk.data\n",
    "from nltk import wordpunct_tokenize\n",
    "\n",
    "text = '''There are two ways of constructing a software design:\n",
    "One way is to make it so simple that there are obviously no deficiencies and\n",
    "the other way is to make it so complicated that there are no obvious deficiencies.'''\n",
    "# — C.A.R. Hoare, The 1980 ACM Turing Award Lecture\n",
    "\n",
    "# split into words by punctuations\n",
    "# remove punctuations and all '-' words\n",
    "RE = re.compile('[0-9a-z-]', re.I)\n",
    "sent = nltk.data.load('tokenizers/punkt/english.pickle')"
   ]
  },
  {
   "cell_type": "code",
   "execution_count": 9,
   "metadata": {
    "collapsed": true
   },
   "outputs": [],
   "source": [
    "def get_ARI_score(text):\n",
    "    words = list(filter(lambda w: RE.search(w) and w.replace('-', ''), wordpunct_tokenize(text)))\n",
    "    wordc = len(words)\n",
    "    charc = sum(len(w) for w in words)\n",
    "    sents = sent.tokenize(text)\n",
    "    sentc = len(sents)\n",
    "    return 4.71 * charc / (wordc + 0.1) + 0.5 * (wordc + 0.1) / (sentc + 0.1) - 21.43"
   ]
  },
  {
   "cell_type": "code",
   "execution_count": 10,
   "metadata": {
    "collapsed": true
   },
   "outputs": [],
   "source": [
    "# Create the feature dictionary:"
   ]
  },
  {
   "cell_type": "code",
   "execution_count": 11,
   "metadata": {
    "collapsed": true
   },
   "outputs": [],
   "source": [
    "def convert_to_dict(line):\n",
    "    l = line.rstrip('\\n')\n",
    "    l = eval(l)\n",
    "    return l"
   ]
  },
  {
   "cell_type": "code",
   "execution_count": 12,
   "metadata": {
    "collapsed": false
   },
   "outputs": [
    {
     "name": "stdout",
     "output_type": "stream",
     "text": [
      "500\n",
      "1000\n",
      "1500\n",
      "2000\n",
      "2500\n",
      "3000\n",
      "3500\n",
      "4000\n",
      "4500\n",
      "5000\n",
      "5500\n",
      "6000\n",
      "6500\n",
      "7000\n",
      "7500\n",
      "8000\n",
      "8500\n",
      "9000\n",
      "9500\n",
      "10000\n",
      "10500\n",
      "11000\n",
      "11500\n",
      "12000\n",
      "12500\n",
      "13000\n",
      "13500\n",
      "14000\n",
      "14500\n",
      "15000\n",
      "15500\n",
      "16000\n",
      "16500\n",
      "17000\n",
      "17500\n",
      "18000\n",
      "18500\n",
      "19000\n",
      "19500\n",
      "20000\n",
      "20500\n",
      "21000\n",
      "21500\n",
      "22000\n",
      "22500\n",
      "23000\n",
      "23500\n"
     ]
    }
   ],
   "source": [
    "dict_list = []\n",
    "counter = 1\n",
    "for item in swiss_rev_help:\n",
    "    if(counter%500 == 0):\n",
    "        print(counter)\n",
    "    counter += 1\n",
    "    dict_list.append(convert_to_dict(item))"
   ]
  },
  {
   "cell_type": "code",
   "execution_count": 13,
   "metadata": {
    "collapsed": true
   },
   "outputs": [],
   "source": [
    "features = pd.DataFrame(dict_list)"
   ]
  },
  {
   "cell_type": "code",
   "execution_count": 14,
   "metadata": {
    "collapsed": true
   },
   "outputs": [],
   "source": [
    "features.drop(['reviewTime', 'reviewerName', 'unixReviewTime'],inplace=True,axis=1)"
   ]
  },
  {
   "cell_type": "code",
   "execution_count": 30,
   "metadata": {
    "collapsed": false
   },
   "outputs": [
    {
     "data": {
      "text/html": [
       "<div>\n",
       "<table border=\"1\" class=\"dataframe\">\n",
       "  <thead>\n",
       "    <tr style=\"text-align: right;\">\n",
       "      <th></th>\n",
       "      <th>asin</th>\n",
       "      <th>helpful</th>\n",
       "      <th>overall</th>\n",
       "      <th>reviewText</th>\n",
       "      <th>reviewerID</th>\n",
       "      <th>summary</th>\n",
       "      <th>rev_length</th>\n",
       "      <th>all_caps</th>\n",
       "      <th>sent_count</th>\n",
       "      <th>que_exc_ratio</th>\n",
       "      <th>ari_score</th>\n",
       "      <th>dev_mean_score</th>\n",
       "    </tr>\n",
       "  </thead>\n",
       "  <tbody>\n",
       "    <tr>\n",
       "      <th>0</th>\n",
       "      <td>B006TIEY40</td>\n",
       "      <td>[4, 6]</td>\n",
       "      <td>5.0</td>\n",
       "      <td>Have used it for several trips already. Very s...</td>\n",
       "      <td>A05423363IP01ZGDN77PM</td>\n",
       "      <td>Perfect carry-on spinner</td>\n",
       "      <td>-0.701678</td>\n",
       "      <td>0.033075</td>\n",
       "      <td>-0.402241</td>\n",
       "      <td>-0.310841</td>\n",
       "      <td>-0.277327</td>\n",
       "      <td>0.467890</td>\n",
       "    </tr>\n",
       "    <tr>\n",
       "      <th>1</th>\n",
       "      <td>B006TIEZH6</td>\n",
       "      <td>[4, 6]</td>\n",
       "      <td>5.0</td>\n",
       "      <td>Have used it for several trips already. Very s...</td>\n",
       "      <td>A05423363IP01ZGDN77PM</td>\n",
       "      <td>Perfect carry-on spinner</td>\n",
       "      <td>-0.701678</td>\n",
       "      <td>0.033075</td>\n",
       "      <td>-0.402241</td>\n",
       "      <td>-0.310841</td>\n",
       "      <td>-0.277327</td>\n",
       "      <td>0.463636</td>\n",
       "    </tr>\n",
       "    <tr>\n",
       "      <th>2</th>\n",
       "      <td>B001F42MKG</td>\n",
       "      <td>[0, 6]</td>\n",
       "      <td>1.0</td>\n",
       "      <td>dont buy this crap. hard to use. doesnt last l...</td>\n",
       "      <td>A05953714NT40ISVAAT5</td>\n",
       "      <td>dont buy this crap</td>\n",
       "      <td>-0.720648</td>\n",
       "      <td>-0.568656</td>\n",
       "      <td>-0.286997</td>\n",
       "      <td>-0.310841</td>\n",
       "      <td>-1.120527</td>\n",
       "      <td>-3.387415</td>\n",
       "    </tr>\n",
       "  </tbody>\n",
       "</table>\n",
       "</div>"
      ],
      "text/plain": [
       "         asin helpful  overall  \\\n",
       "0  B006TIEY40  [4, 6]      5.0   \n",
       "1  B006TIEZH6  [4, 6]      5.0   \n",
       "2  B001F42MKG  [0, 6]      1.0   \n",
       "\n",
       "                                          reviewText             reviewerID  \\\n",
       "0  Have used it for several trips already. Very s...  A05423363IP01ZGDN77PM   \n",
       "1  Have used it for several trips already. Very s...  A05423363IP01ZGDN77PM   \n",
       "2  dont buy this crap. hard to use. doesnt last l...   A05953714NT40ISVAAT5   \n",
       "\n",
       "                    summary  rev_length  all_caps  sent_count  que_exc_ratio  \\\n",
       "0  Perfect carry-on spinner   -0.701678  0.033075   -0.402241      -0.310841   \n",
       "1  Perfect carry-on spinner   -0.701678  0.033075   -0.402241      -0.310841   \n",
       "2        dont buy this crap   -0.720648 -0.568656   -0.286997      -0.310841   \n",
       "\n",
       "   ari_score  dev_mean_score  \n",
       "0  -0.277327        0.467890  \n",
       "1  -0.277327        0.463636  \n",
       "2  -1.120527       -3.387415  "
      ]
     },
     "execution_count": 30,
     "metadata": {},
     "output_type": "execute_result"
    }
   ],
   "source": [
    "features.head(3)"
   ]
  },
  {
   "cell_type": "code",
   "execution_count": 16,
   "metadata": {
    "collapsed": false
   },
   "outputs": [],
   "source": [
    "# Review length\n",
    "features[\"rev_length\"] = features['reviewText'].apply(lambda x: len(x))\n",
    "features[\"rev_length\"] = (features[\"rev_length\"] - \\\n",
    "                          features[\"rev_length\"].mean()) / features[\"rev_length\"].std()"
   ]
  },
  {
   "cell_type": "code",
   "execution_count": 17,
   "metadata": {
    "collapsed": true
   },
   "outputs": [],
   "source": [
    "# Number of all caps\n",
    "def count_all_caps(text):\n",
    "    count = 0\n",
    "    for i in text:\n",
    "        if(i.isupper()):\n",
    "            count += 1\n",
    "    return count/(len(text) + 1)"
   ]
  },
  {
   "cell_type": "code",
   "execution_count": 18,
   "metadata": {
    "collapsed": true
   },
   "outputs": [],
   "source": [
    "features[\"all_caps\"] = features['reviewText'].apply(count_all_caps)\n",
    "features[\"all_caps\"] = (features[\"all_caps\"] - \\\n",
    "                          features[\"all_caps\"].mean()) / features[\"all_caps\"].std()"
   ]
  },
  {
   "cell_type": "code",
   "execution_count": 19,
   "metadata": {
    "collapsed": true
   },
   "outputs": [],
   "source": [
    "# Sentence count\n",
    "features[\"sent_count\"] = features['reviewText'].apply(lambda x: \\\n",
    "                                                      len(nltk.tokenize.sent_tokenize(x)))"
   ]
  },
  {
   "cell_type": "code",
   "execution_count": 20,
   "metadata": {
    "collapsed": true
   },
   "outputs": [],
   "source": [
    "features[\"sent_count\"] = (features[\"sent_count\"] - \\\n",
    "                          features[\"sent_count\"].mean()) / features[\"sent_count\"].std()"
   ]
  },
  {
   "cell_type": "code",
   "execution_count": 21,
   "metadata": {
    "collapsed": true
   },
   "outputs": [],
   "source": [
    "# Question and exclamation marks ratio to characters\n",
    "def count_ques_exc_ratio(text):\n",
    "    count = 0\n",
    "    for i in text:\n",
    "        if(i == '!' or i == '?'):\n",
    "            count += 1\n",
    "    return count*1.0/(len(text)+1)"
   ]
  },
  {
   "cell_type": "code",
   "execution_count": 22,
   "metadata": {
    "collapsed": false
   },
   "outputs": [],
   "source": [
    "features[\"que_exc_ratio\"] = features['reviewText'].apply(count_ques_exc_ratio)\n",
    "features[\"que_exc_ratio\"] = (features[\"que_exc_ratio\"] - \\\n",
    "                          features[\"que_exc_ratio\"].mean()) / features[\"que_exc_ratio\"].std()"
   ]
  },
  {
   "cell_type": "code",
   "execution_count": 23,
   "metadata": {
    "collapsed": false
   },
   "outputs": [],
   "source": [
    "# ARI readability index\n",
    "features[\"ari_score\"] = features['reviewText'].apply(get_ARI_score)"
   ]
  },
  {
   "cell_type": "code",
   "execution_count": 24,
   "metadata": {
    "collapsed": true
   },
   "outputs": [],
   "source": [
    "features[\"ari_score\"] = (features[\"ari_score\"] - \\\n",
    "                          features[\"ari_score\"].mean()) / features[\"ari_score\"].std()"
   ]
  },
  {
   "cell_type": "code",
   "execution_count": 25,
   "metadata": {
    "collapsed": false
   },
   "outputs": [],
   "source": [
    "# rating deviation from mean rating score\n",
    "with open(\"data/asin_ratings_bigger.json\", \"r\") as fp:\n",
    "    asin_rev_ratings = fp.readlines()"
   ]
  },
  {
   "cell_type": "code",
   "execution_count": 26,
   "metadata": {
    "collapsed": false
   },
   "outputs": [],
   "source": [
    "dict_list_ar = []\n",
    "for item in asin_rev_ratings:\n",
    "    dict_list_ar.append(convert_to_dict(item))"
   ]
  },
  {
   "cell_type": "code",
   "execution_count": 27,
   "metadata": {
    "collapsed": false
   },
   "outputs": [],
   "source": [
    "dict_ar = dict([(key,d[key]) for d in dict_list_ar for key in d])"
   ]
  },
  {
   "cell_type": "code",
   "execution_count": 28,
   "metadata": {
    "collapsed": true
   },
   "outputs": [],
   "source": [
    "def get_dev_mean_score(row):\n",
    "    if(row['asin'] in dict_ar.keys()):\n",
    "        return row['overall'] - dict_ar[row['asin']]\n",
    "    print(\"Should not get here\")\n",
    "    return 0"
   ]
  },
  {
   "cell_type": "code",
   "execution_count": 29,
   "metadata": {
    "collapsed": false
   },
   "outputs": [],
   "source": [
    "features['dev_mean_score'] = features.apply(get_dev_mean_score, axis=1)"
   ]
  },
  {
   "cell_type": "code",
   "execution_count": 31,
   "metadata": {
    "collapsed": true
   },
   "outputs": [],
   "source": [
    "# should only be standardized after dev_mean_score has been computed\n",
    "features[\"overall\"] = (features[\"overall\"] - \\\n",
    "                          features[\"overall\"].mean()) / features[\"overall\"].std()"
   ]
  },
  {
   "cell_type": "code",
   "execution_count": 32,
   "metadata": {
    "collapsed": true
   },
   "outputs": [],
   "source": [
    "features[\"dev_mean_score\"] = (features[\"dev_mean_score\"] - \\\n",
    "                          features[\"dev_mean_score\"].mean()) / features[\"dev_mean_score\"].std()"
   ]
  },
  {
   "cell_type": "code",
   "execution_count": 33,
   "metadata": {
    "collapsed": false
   },
   "outputs": [
    {
     "data": {
      "text/plain": [
       "23755"
      ]
     },
     "execution_count": 33,
     "metadata": {},
     "output_type": "execute_result"
    }
   ],
   "source": [
    "len(features)"
   ]
  },
  {
   "cell_type": "code",
   "execution_count": 34,
   "metadata": {
    "collapsed": false
   },
   "outputs": [],
   "source": [
    "features.drop_duplicates(subset=['asin','reviewText'], keep='first', inplace=True)"
   ]
  },
  {
   "cell_type": "code",
   "execution_count": 35,
   "metadata": {
    "collapsed": false
   },
   "outputs": [
    {
     "data": {
      "text/plain": [
       "23675"
      ]
     },
     "execution_count": 35,
     "metadata": {},
     "output_type": "execute_result"
    }
   ],
   "source": [
    "len(features)"
   ]
  },
  {
   "cell_type": "code",
   "execution_count": 36,
   "metadata": {
    "collapsed": false
   },
   "outputs": [],
   "source": [
    "def create_labels(pair):\n",
    "    if(pair[0]*1.0/pair[1] >= 0.6):\n",
    "        return 1\n",
    "    else:\n",
    "        return 0"
   ]
  },
  {
   "cell_type": "code",
   "execution_count": 37,
   "metadata": {
    "collapsed": true
   },
   "outputs": [],
   "source": [
    "features['Y'] = features['helpful'].apply(create_labels)"
   ]
  },
  {
   "cell_type": "code",
   "execution_count": 38,
   "metadata": {
    "collapsed": true
   },
   "outputs": [],
   "source": [
    "# Extract tf-idf"
   ]
  },
  {
   "cell_type": "code",
   "execution_count": 39,
   "metadata": {
    "collapsed": true
   },
   "outputs": [],
   "source": [
    "from sklearn.feature_extraction.text import CountVectorizer\n",
    "count_vect = CountVectorizer(stop_words='english')\n",
    "X_train_counts = count_vect.fit_transform(features['reviewText'])"
   ]
  },
  {
   "cell_type": "code",
   "execution_count": 40,
   "metadata": {
    "collapsed": false
   },
   "outputs": [
    {
     "data": {
      "text/plain": [
       "(23675, 49576)"
      ]
     },
     "execution_count": 40,
     "metadata": {},
     "output_type": "execute_result"
    }
   ],
   "source": [
    "X_train_counts.shape"
   ]
  },
  {
   "cell_type": "code",
   "execution_count": 41,
   "metadata": {
    "collapsed": true
   },
   "outputs": [],
   "source": [
    "from sklearn.feature_extraction.text import TfidfTransformer\n",
    "tf_transformer = TfidfTransformer().fit(X_train_counts)\n",
    "X_train_tf = tf_transformer.transform(X_train_counts)"
   ]
  },
  {
   "cell_type": "code",
   "execution_count": 45,
   "metadata": {
    "collapsed": false
   },
   "outputs": [
    {
     "data": {
      "text/plain": [
       "(23675, 49576)"
      ]
     },
     "execution_count": 45,
     "metadata": {},
     "output_type": "execute_result"
    }
   ],
   "source": [
    "X_train_tf.shape"
   ]
  },
  {
   "cell_type": "code",
   "execution_count": 43,
   "metadata": {
    "collapsed": true
   },
   "outputs": [],
   "source": [
    "from sklearn.preprocessing import scale, MaxAbsScaler, maxabs_scale"
   ]
  },
  {
   "cell_type": "code",
   "execution_count": 44,
   "metadata": {
    "collapsed": false
   },
   "outputs": [
    {
     "data": {
      "text/plain": [
       "<23675x49576 sparse matrix of type '<class 'numpy.float64'>'\n",
       "\twith 1396844 stored elements in Compressed Sparse Row format>"
      ]
     },
     "execution_count": 44,
     "metadata": {},
     "output_type": "execute_result"
    }
   ],
   "source": [
    "maxabs_scale(X_train_tf, copy=False)"
   ]
  },
  {
   "cell_type": "code",
   "execution_count": 46,
   "metadata": {
    "collapsed": true
   },
   "outputs": [],
   "source": [
    "Y = features.as_matrix(['Y'])"
   ]
  },
  {
   "cell_type": "code",
   "execution_count": 47,
   "metadata": {
    "collapsed": false
   },
   "outputs": [
    {
     "data": {
      "text/plain": [
       "(23675, 1)"
      ]
     },
     "execution_count": 47,
     "metadata": {},
     "output_type": "execute_result"
    }
   ],
   "source": [
    "Y.shape"
   ]
  },
  {
   "cell_type": "code",
   "execution_count": 48,
   "metadata": {
    "collapsed": true
   },
   "outputs": [],
   "source": [
    "X_train_else = features.as_matrix(['overall','rev_length','all_caps','sent_count','que_exc_ratio',\n",
    "                                   'ari_score', 'dev_mean_score'])"
   ]
  },
  {
   "cell_type": "code",
   "execution_count": 49,
   "metadata": {
    "collapsed": false
   },
   "outputs": [
    {
     "data": {
      "text/plain": [
       "numpy.ndarray"
      ]
     },
     "execution_count": 49,
     "metadata": {},
     "output_type": "execute_result"
    }
   ],
   "source": [
    "type(X_train_else)"
   ]
  },
  {
   "cell_type": "code",
   "execution_count": 50,
   "metadata": {
    "collapsed": false
   },
   "outputs": [],
   "source": [
    "from scipy.sparse import hstack\n",
    "X = hstack([X_train_tf, X_train_else])"
   ]
  },
  {
   "cell_type": "code",
   "execution_count": 51,
   "metadata": {
    "collapsed": false
   },
   "outputs": [
    {
     "data": {
      "text/plain": [
       "scipy.sparse.coo.coo_matrix"
      ]
     },
     "execution_count": 51,
     "metadata": {},
     "output_type": "execute_result"
    }
   ],
   "source": [
    "type(X)"
   ]
  },
  {
   "cell_type": "code",
   "execution_count": 52,
   "metadata": {
    "collapsed": false
   },
   "outputs": [
    {
     "data": {
      "text/plain": [
       "(23675, 49583)"
      ]
     },
     "execution_count": 52,
     "metadata": {},
     "output_type": "execute_result"
    }
   ],
   "source": [
    "X.shape"
   ]
  },
  {
   "cell_type": "code",
   "execution_count": 53,
   "metadata": {
    "collapsed": false
   },
   "outputs": [
    {
     "data": {
      "text/plain": [
       "(23675, 1)"
      ]
     },
     "execution_count": 53,
     "metadata": {},
     "output_type": "execute_result"
    }
   ],
   "source": [
    "Y.shape"
   ]
  },
  {
   "cell_type": "code",
   "execution_count": 54,
   "metadata": {
    "collapsed": true
   },
   "outputs": [],
   "source": [
    "Y = Y.reshape((Y.shape[0],))"
   ]
  },
  {
   "cell_type": "code",
   "execution_count": 55,
   "metadata": {
    "collapsed": false
   },
   "outputs": [
    {
     "data": {
      "text/plain": [
       "(23675,)"
      ]
     },
     "execution_count": 55,
     "metadata": {},
     "output_type": "execute_result"
    }
   ],
   "source": [
    "Y.shape"
   ]
  },
  {
   "cell_type": "code",
   "execution_count": 76,
   "metadata": {
    "collapsed": false
   },
   "outputs": [
    {
     "data": {
      "text/plain": [
       "17845"
      ]
     },
     "execution_count": 76,
     "metadata": {},
     "output_type": "execute_result"
    }
   ],
   "source": [
    "sum(features['Y']) # bit more than 3:1 bias towards helpful reviews"
   ]
  },
  {
   "cell_type": "code",
   "execution_count": 56,
   "metadata": {
    "collapsed": true
   },
   "outputs": [],
   "source": [
    "# Time for some machine learning"
   ]
  },
  {
   "cell_type": "code",
   "execution_count": 57,
   "metadata": {
    "collapsed": true
   },
   "outputs": [],
   "source": [
    "from sklearn.ensemble import RandomForestClassifier, AdaBoostClassifier\n",
    "from sklearn.linear_model import LogisticRegression\n",
    "from sklearn.svm import SVC\n",
    "from sklearn import preprocessing\n",
    "from sklearn.model_selection import train_test_split, cross_val_score, cross_val_predict\n",
    "from sklearn.metrics import confusion_matrix, roc_curve"
   ]
  },
  {
   "cell_type": "code",
   "execution_count": 58,
   "metadata": {
    "collapsed": false
   },
   "outputs": [
    {
     "name": "stdout",
     "output_type": "stream",
     "text": [
      "Test set accuracy: 0.825343189018\n",
      "Train set accuracy: 0.993453009504\n"
     ]
    }
   ],
   "source": [
    "clrf = RandomForestClassifier(n_estimators = 10, class_weight='balanced', n_jobs=-1)\n",
    "\n",
    "x_tr, x_te, y_tr, y_te = train_test_split(X, Y, train_size=0.8)\n",
    "clrf.fit(x_tr, y_tr)\n",
    "print(\"Test set accuracy:\" , clrf.score(x_te, y_te))\n",
    "print(\"Train set accuracy:\", clrf.score(x_tr, y_tr))"
   ]
  },
  {
   "cell_type": "code",
   "execution_count": 69,
   "metadata": {
    "collapsed": false
   },
   "outputs": [
    {
     "name": "stdout",
     "output_type": "stream",
     "text": [
      "Test set accuracy: 0.823864836325\n",
      "Train set accuracy: 0.953590285111\n"
     ]
    }
   ],
   "source": [
    "cllr = LogisticRegression(class_weight='balanced', n_jobs=-1, C=1)\n",
    "\n",
    "x_tr, x_te, y_tr, y_te = train_test_split(X, Y, train_size=0.8)\n",
    "cllr.fit(x_tr, y_tr)\n",
    "print(\"Test set accuracy:\" , cllr.score(x_te, y_te))\n",
    "print(\"Train set accuracy:\", cllr.score(x_tr, y_tr))"
   ]
  },
  {
   "cell_type": "code",
   "execution_count": 74,
   "metadata": {
    "collapsed": false
   },
   "outputs": [
    {
     "name": "stdout",
     "output_type": "stream",
     "text": [
      "Test set accuracy: 0.812038014784\n",
      "Train set accuracy: 0.819693769799\n"
     ]
    }
   ],
   "source": [
    "clab = AdaBoostClassifier()\n",
    "\n",
    "x_tr, x_te, y_tr, y_te = train_test_split(X, Y, train_size=0.8)\n",
    "clab.fit(x_tr, y_tr)\n",
    "print(\"Test set accuracy:\" , clab.score(x_te, y_te))\n",
    "print(\"Train set accuracy:\", clab.score(x_tr, y_tr))"
   ]
  },
  {
   "cell_type": "code",
   "execution_count": 83,
   "metadata": {
    "collapsed": false
   },
   "outputs": [],
   "source": [
    "# C could be tuned\n",
    "clsvc = SVC(class_weight='balanced', kernel='linear', probability=True)\n",
    "\n",
    "#x_tr, x_te, y_tr, y_te = train_test_split(X, Y, train_size=0.8)\n",
    "#clsvc.fit(x_tr, y_tr)\n",
    "#print(\"Test set accuracy:\" , clsvc.score(x_te, y_te))\n",
    "#print(\"Train set accuracy:\", clsvc.score(x_tr, y_tr))"
   ]
  },
  {
   "cell_type": "code",
   "execution_count": null,
   "metadata": {
    "collapsed": false
   },
   "outputs": [],
   "source": [
    "clrf.fit(x_tr, y_tr)\n",
    "print(\"Test set accuracy:\" , clsf.score(x_te, y_te))\n",
    "print(\"Train set accuracy:\", clsf.score(x_tr, y_tr))"
   ]
  },
  {
   "cell_type": "code",
   "execution_count": null,
   "metadata": {
    "collapsed": true
   },
   "outputs": [],
   "source": [
    "acc = cross_val_score(clrf, X, Y, cv=10, n_jobs=-1)"
   ]
  },
  {
   "cell_type": "code",
   "execution_count": null,
   "metadata": {
    "collapsed": false
   },
   "outputs": [],
   "source": [
    "acc"
   ]
  },
  {
   "cell_type": "code",
   "execution_count": null,
   "metadata": {
    "collapsed": false
   },
   "outputs": [],
   "source": [
    "print(\"Bias: \", 1 - np.mean(acc))\n",
    "print(\"variance: \", np.std(acc)**2)"
   ]
  },
  {
   "cell_type": "code",
   "execution_count": null,
   "metadata": {
    "collapsed": true
   },
   "outputs": [],
   "source": [
    "f1s = cross_val_score(clsf, X, Y, cv=10, scoring='f1', n_jobs=-1)"
   ]
  },
  {
   "cell_type": "code",
   "execution_count": null,
   "metadata": {
    "collapsed": false
   },
   "outputs": [],
   "source": [
    "f1s"
   ]
  },
  {
   "cell_type": "code",
   "execution_count": null,
   "metadata": {
    "collapsed": true
   },
   "outputs": [],
   "source": [
    "roc_aucs = cross_val_score(clsf, X, Y, cv=10, scoring='roc_auc', n_jobs=-1)"
   ]
  },
  {
   "cell_type": "code",
   "execution_count": null,
   "metadata": {
    "collapsed": false
   },
   "outputs": [],
   "source": [
    "roc_aucs"
   ]
  },
  {
   "cell_type": "code",
   "execution_count": null,
   "metadata": {
    "collapsed": true
   },
   "outputs": [],
   "source": [
    "# Predict values"
   ]
  },
  {
   "cell_type": "code",
   "execution_count": 59,
   "metadata": {
    "collapsed": true
   },
   "outputs": [],
   "source": [
    "y_pred_rf = cross_val_predict(clrf, X, Y, cv=10, n_jobs=-1)"
   ]
  },
  {
   "cell_type": "code",
   "execution_count": 70,
   "metadata": {
    "collapsed": false
   },
   "outputs": [],
   "source": [
    "y_pred_lr = cross_val_predict(cllr, X, Y, cv=10, n_jobs=-1)"
   ]
  },
  {
   "cell_type": "code",
   "execution_count": 77,
   "metadata": {
    "collapsed": true
   },
   "outputs": [],
   "source": [
    "y_pred_ab = cross_val_predict(clab, X, Y, cv=10, n_jobs=-1)"
   ]
  },
  {
   "cell_type": "code",
   "execution_count": null,
   "metadata": {
    "collapsed": false
   },
   "outputs": [],
   "source": [
    "# takes a bit too long (at least 15 min)\n",
    "y_pred_svc = cross_val_predict(clsvc, X, Y, cv=10, n_jobs=-1)"
   ]
  },
  {
   "cell_type": "code",
   "execution_count": null,
   "metadata": {
    "collapsed": true
   },
   "outputs": [],
   "source": []
  },
  {
   "cell_type": "code",
   "execution_count": 85,
   "metadata": {
    "collapsed": false
   },
   "outputs": [],
   "source": [
    "cm = confusion_matrix(Y, y_pred_lr)"
   ]
  },
  {
   "cell_type": "code",
   "execution_count": 86,
   "metadata": {
    "collapsed": false
   },
   "outputs": [],
   "source": [
    "import itertools\n",
    "def plot_confusion_matrix(cm, classes,\n",
    "                          normalize=False,\n",
    "                          title='Confusion matrix',\n",
    "                          cmap=plt.cm.Blues):\n",
    "    \"\"\"\n",
    "    This function prints and plots the confusion matrix.\n",
    "    Normalization can be applied by setting `normalize=True`.\n",
    "    \"\"\"\n",
    "    plt.imshow(cm, interpolation='nearest', cmap=cmap)\n",
    "    plt.title(title)\n",
    "    plt.colorbar()\n",
    "    tick_marks = np.arange(len(classes))\n",
    "    plt.xticks(tick_marks, classes, rotation=45)\n",
    "    plt.yticks(tick_marks, classes)\n",
    "\n",
    "    if normalize:\n",
    "        cm = cm.astype('float') / cm.sum(axis=1)[:, np.newaxis]\n",
    "        print(\"Normalized confusion matrix\")\n",
    "    else:\n",
    "        print('Confusion matrix, without normalization')\n",
    "\n",
    "    print(cm)\n",
    "\n",
    "    thresh = cm.max() / 2.\n",
    "    for i, j in itertools.product(range(cm.shape[0]), range(cm.shape[1])):\n",
    "        plt.text(j, i, cm[i, j],\n",
    "                 horizontalalignment=\"center\",\n",
    "                 color=\"white\" if cm[i, j] > thresh else \"black\")\n",
    "    plt.tight_layout()\n",
    "    plt.ylabel('True label')\n",
    "    plt.xlabel('Predicted label')"
   ]
  },
  {
   "cell_type": "code",
   "execution_count": 87,
   "metadata": {
    "collapsed": false
   },
   "outputs": [
    {
     "name": "stdout",
     "output_type": "stream",
     "text": [
      "Confusion matrix, without normalization\n",
      "[[ 3859  1971]\n",
      " [ 2859 14986]]\n"
     ]
    },
    {
     "data": {
      "image/png": "[encoded data removed]",
      "text/plain": [
       "<matplotlib.figure.Figure at 0x7f986cf7f1d0>"
      ]
     },
     "metadata": {},
     "output_type": "display_data"
    }
   ],
   "source": [
    "# Plot non-normalized confusion matrix\n",
    "plt.figure()\n",
    "plot_confusion_matrix(cm, classes=['Unhelpful', 'Helpful'],\n",
    "                      title='Confusion matrix, without normalization')\n",
    "plt.show()"
   ]
  },
  {
   "cell_type": "code",
   "execution_count": null,
   "metadata": {
    "collapsed": true
   },
   "outputs": [],
   "source": [
    "# plot roc-curve"
   ]
  },
  {
   "cell_type": "code",
   "execution_count": 88,
   "metadata": {
    "collapsed": true
   },
   "outputs": [],
   "source": [
    "y_pred_lr2 = cllr.predict_proba(X)[:, 1]"
   ]
  },
  {
   "cell_type": "code",
   "execution_count": 89,
   "metadata": {
    "collapsed": true
   },
   "outputs": [],
   "source": [
    "y_pred_rf2 = clrf.predict_proba(X)[:, 1]"
   ]
  },
  {
   "cell_type": "code",
   "execution_count": 90,
   "metadata": {
    "collapsed": true
   },
   "outputs": [],
   "source": [
    "y_pred_ab2 = clab.predict_proba(X)[:, 1]"
   ]
  },
  {
   "cell_type": "code",
   "execution_count": null,
   "metadata": {
    "collapsed": false
   },
   "outputs": [],
   "source": [
    "y_pred_svc2 = clsvc.predict_proba(X)[:, 1]"
   ]
  },
  {
   "cell_type": "code",
   "execution_count": 92,
   "metadata": {
    "collapsed": false
   },
   "outputs": [
    {
     "data": {
      "image/png": "[encoded data removed]",
      "text/plain": [
       "<matplotlib.figure.Figure at 0x7f986cf5f6a0>"
      ]
     },
     "metadata": {},
     "output_type": "display_data"
    }
   ],
   "source": [
    "# IMPORTANT: first argument is true values, second argument is predicted probabilities\n",
    "fpr_lr, tpr_lr, thresholds = roc_curve(Y, y_pred_lr2)\n",
    "fpr_rf, tpr_rf, thresholds = roc_curve(Y, y_pred_rf2)\n",
    "fpr_ab, tpr_ab, thresholds = roc_curve(Y, y_pred_ab2)\n",
    "#fpr_svc, tpr_svc, thresholds = roc_curve(Y, y_pred_svc2)\n",
    "plt.plot(fpr_lr, tpr_lr)\n",
    "plt.plot(fpr_rf, tpr_rf)\n",
    "plt.plot(fpr_ab, tpr_ab)\n",
    "#plt.plot(fpr_svc, tpr_svc)\n",
    "plt.xlim([0.0, 1.0])\n",
    "plt.ylim([0.0, 1.0])\n",
    "plt.title('ROC curve for predicting swiss review helpfulness')\n",
    "plt.xlabel('False Positive Rate (1 - Specificity)')\n",
    "plt.ylabel('True Positive Rate (Sensitivity)')\n",
    "plt.legend(['Log reg', 'Random forest', 'Adaboost'], loc='upper right')\n",
    "plt.grid(True)"
   ]
  },
  {
   "cell_type": "code",
   "execution_count": 93,
   "metadata": {
    "collapsed": true
   },
   "outputs": [],
   "source": [
    "words_list = count_vect.get_feature_names()\n",
    "other_feats = ['overall','rev_length','all_caps','sent_count','que_exc_ratio',\n",
    "                                   'ari_score', 'dev_mean_score']\n",
    "feature_names = words_list + other_feats"
   ]
  },
  {
   "cell_type": "code",
   "execution_count": 101,
   "metadata": {
    "collapsed": true
   },
   "outputs": [],
   "source": [
    "temp_names = []\n",
    "for i in range(number):\n",
    "    temp_names.append(feature_names[indices[i]])"
   ]
  },
  {
   "cell_type": "code",
   "execution_count": 107,
   "metadata": {
    "collapsed": false
   },
   "outputs": [
    {
     "data": {
      "image/png": "[encoded data removed]",
      "text/plain": [
       "<matplotlib.figure.Figure at 0x7f986c95f518>"
      ]
     },
     "metadata": {},
     "output_type": "display_data"
    },
    {
     "name": "stdout",
     "output_type": "stream",
     "text": [
      "Feature ranking:\n",
      "1. feature overall (0.064127)\n",
      "2. feature dev_mean_score (0.035368)\n",
      "3. feature rev_length (0.012315)\n",
      "4. feature ari_score (0.009565)\n",
      "5. feature all_caps (0.007983)\n",
      "6. feature sent_count (0.007160)\n",
      "7. feature great (0.006399)\n",
      "8. feature que_exc_ratio (0.005005)\n",
      "9. feature price (0.004439)\n",
      "10. feature little (0.003979)\n"
     ]
    }
   ],
   "source": [
    "number = 10\n",
    "importances = clrf.feature_importances_\n",
    "#std = np.std([tree.feature_importances_ for tree in clsf.estimators_], axis=0)\n",
    "indices = np.argsort(importances)[::-1]\n",
    "\n",
    "#Plot the feature importances of the forest\n",
    "plt.figure(figsize=(20,10))\n",
    "plt.title(\"Feature importances\", fontsize=20)\n",
    "plt.bar(range(number), importances[indices[:number]],\n",
    "       color=\"r\", align=\"center\")#, yerr=std[indices])\n",
    "plt.xticks(range(number), temp_names, fontsize=20,rotation=45)\n",
    "plt.xlim([-1, number])\n",
    "plt.show()\n",
    "\n",
    "# Print the feature ranking\n",
    "print(\"Feature ranking:\")\n",
    "\n",
    "for f in range(number):\n",
    "    print(\"%d. feature %s (%f)\" % (f + 1,  feature_names[indices[f]], importances[indices[f]]))\n"
   ]
  },
  {
   "cell_type": "code",
   "execution_count": null,
   "metadata": {
    "collapsed": true
   },
   "outputs": [],
   "source": []
  }
 ],
 "metadata": {
  "anaconda-cloud": {},
  "kernelspec": {
   "display_name": "Python 3",
   "language": "python",
   "name": "python3"
  },
  "language_info": {
   "codemirror_mode": {
    "name": "ipython",
    "version": 3
   },
   "file_extension": ".py",
   "mimetype": "text/x-python",
   "name": "python",
   "nbconvert_exporter": "python",
   "pygments_lexer": "ipython3",
   "version": "3.5.2"
  }
 },
 "nbformat": 4,
 "nbformat_minor": 1
}
