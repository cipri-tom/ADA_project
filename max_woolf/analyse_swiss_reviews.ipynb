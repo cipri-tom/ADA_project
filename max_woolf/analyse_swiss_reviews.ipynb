{
 "cells": [
  {
   "cell_type": "markdown",
   "metadata": {},
   "source": [
    "comparison to http://minimaxir.com/2017/01/amazon-spark/, inspired on https://github.com/minimaxir/amazon-spark/blob/master/amazon-ratings-spark.Rmd, credits: Max Woolf"
   ]
  },
  {
   "cell_type": "code",
   "execution_count": 1,
   "metadata": {
    "collapsed": false
   },
   "outputs": [],
   "source": [
    "%matplotlib inline\n",
    "import matplotlib.pyplot as plt\n",
    "import pandas as pd\n",
    "import numpy as np\n",
    "import datetime\n",
    "from ggplot import *\n",
    "plt.style.use('seaborn-notebook')\n",
    "#['grayscale', 'fivethirtyeight', 'seaborn-deep', 'bmh', 'seaborn-poster', 'seaborn-ticks', 'seaborn-dark', 'seaborn-darkgrid', 'seaborn-whitegrid', 'seaborn-white', 'seaborn-bright', 'seaborn-paper', 'seaborn-pastel', 'seaborn-colorblind', 'seaborn-notebook', 'seaborn-dark-palette', 'dark_background', 'ggplot', 'seaborn-muted', 'seaborn-talk', 'classic']"
   ]
  },
  {
   "cell_type": "markdown",
   "metadata": {},
   "source": [
    "## Exploratory analysis"
   ]
  },
  {
   "cell_type": "code",
   "execution_count": 2,
   "metadata": {
    "collapsed": false
   },
   "outputs": [
    {
     "data": {
      "text/html": [
       "<div>\n",
       "<table border=\"1\" class=\"dataframe\">\n",
       "  <thead>\n",
       "    <tr style=\"text-align: right;\">\n",
       "      <th></th>\n",
       "      <th>user_id</th>\n",
       "      <th>item_id</th>\n",
       "      <th>rating</th>\n",
       "      <th>timestamp</th>\n",
       "      <th>category</th>\n",
       "    </tr>\n",
       "  </thead>\n",
       "  <tbody>\n",
       "    <tr>\n",
       "      <th>0</th>\n",
       "      <td>A00027081JC8NE8X6TD5</td>\n",
       "      <td>B003U8ENTI</td>\n",
       "      <td>5.0</td>\n",
       "      <td>1367625600</td>\n",
       "      <td>[[u'electronics', u'computers &amp; accessories', ...</td>\n",
       "    </tr>\n",
       "    <tr>\n",
       "      <th>1</th>\n",
       "      <td>A00090122PEQW7864EC8L</td>\n",
       "      <td>B004JW1B8A</td>\n",
       "      <td>1.0</td>\n",
       "      <td>1354492800</td>\n",
       "      <td>[[u'toys &amp; games', u'party supplies', u'party ...</td>\n",
       "    </tr>\n",
       "    <tr>\n",
       "      <th>2</th>\n",
       "      <td>A0009686KROLKEH2EHF4</td>\n",
       "      <td>B000I7GST2</td>\n",
       "      <td>5.0</td>\n",
       "      <td>1372723200</td>\n",
       "      <td>[[u'home &amp; kitchen', u'kitchen &amp; dining', u'ki...</td>\n",
       "    </tr>\n",
       "    <tr>\n",
       "      <th>3</th>\n",
       "      <td>A0023922YYT81KP1CWU4</td>\n",
       "      <td>B000R9AAJA</td>\n",
       "      <td>5.0</td>\n",
       "      <td>1353542400</td>\n",
       "      <td>[[u'electronics', u'computers &amp; accessories', ...</td>\n",
       "    </tr>\n",
       "    <tr>\n",
       "      <th>4</th>\n",
       "      <td>A00277003AGRC9WJJ555O</td>\n",
       "      <td>B002FU5QM0</td>\n",
       "      <td>5.0</td>\n",
       "      <td>1353196800</td>\n",
       "      <td>[[u'electronics', u'computers &amp; accessories', ...</td>\n",
       "    </tr>\n",
       "    <tr>\n",
       "      <th>5</th>\n",
       "      <td>A00311601FOXCO2AIRNIF</td>\n",
       "      <td>B003LCV4RM</td>\n",
       "      <td>5.0</td>\n",
       "      <td>1382054400</td>\n",
       "      <td>[[u'patio, lawn &amp; garden', u'pest control', u'...</td>\n",
       "    </tr>\n",
       "    <tr>\n",
       "      <th>6</th>\n",
       "      <td>A00317262XRVTNR5YJQYQ</td>\n",
       "      <td>B001MQ8BDE</td>\n",
       "      <td>5.0</td>\n",
       "      <td>1362096000</td>\n",
       "      <td>[[u'electronics', u'computers &amp; accessories', ...</td>\n",
       "    </tr>\n",
       "    <tr>\n",
       "      <th>7</th>\n",
       "      <td>A0031944XK4KVC58YJ6I</td>\n",
       "      <td>B003U8GCJC</td>\n",
       "      <td>5.0</td>\n",
       "      <td>1355702400</td>\n",
       "      <td>[[u'electronics', u'computers &amp; accessories', ...</td>\n",
       "    </tr>\n",
       "    <tr>\n",
       "      <th>8</th>\n",
       "      <td>A00343841Z6YRUBZ6K0W3</td>\n",
       "      <td>B0015C30J0</td>\n",
       "      <td>5.0</td>\n",
       "      <td>1386374400</td>\n",
       "      <td>[[u'electronics', u'computers &amp; accessories', ...</td>\n",
       "    </tr>\n",
       "    <tr>\n",
       "      <th>9</th>\n",
       "      <td>A0047322388NOTO4N8SKD</td>\n",
       "      <td>B002FU5QLQ</td>\n",
       "      <td>4.0</td>\n",
       "      <td>1398038400</td>\n",
       "      <td>[[u'electronics', u'computers &amp; accessories', ...</td>\n",
       "    </tr>\n",
       "  </tbody>\n",
       "</table>\n",
       "</div>"
      ],
      "text/plain": [
       "                 user_id     item_id  rating   timestamp  \\\n",
       "0   A00027081JC8NE8X6TD5  B003U8ENTI     5.0  1367625600   \n",
       "1  A00090122PEQW7864EC8L  B004JW1B8A     1.0  1354492800   \n",
       "2   A0009686KROLKEH2EHF4  B000I7GST2     5.0  1372723200   \n",
       "3   A0023922YYT81KP1CWU4  B000R9AAJA     5.0  1353542400   \n",
       "4  A00277003AGRC9WJJ555O  B002FU5QM0     5.0  1353196800   \n",
       "5  A00311601FOXCO2AIRNIF  B003LCV4RM     5.0  1382054400   \n",
       "6  A00317262XRVTNR5YJQYQ  B001MQ8BDE     5.0  1362096000   \n",
       "7   A0031944XK4KVC58YJ6I  B003U8GCJC     5.0  1355702400   \n",
       "8  A00343841Z6YRUBZ6K0W3  B0015C30J0     5.0  1386374400   \n",
       "9  A0047322388NOTO4N8SKD  B002FU5QLQ     4.0  1398038400   \n",
       "\n",
       "                                            category  \n",
       "0  [[u'electronics', u'computers & accessories', ...  \n",
       "1  [[u'toys & games', u'party supplies', u'party ...  \n",
       "2  [[u'home & kitchen', u'kitchen & dining', u'ki...  \n",
       "3  [[u'electronics', u'computers & accessories', ...  \n",
       "4  [[u'electronics', u'computers & accessories', ...  \n",
       "5  [[u'patio, lawn & garden', u'pest control', u'...  \n",
       "6  [[u'electronics', u'computers & accessories', ...  \n",
       "7  [[u'electronics', u'computers & accessories', ...  \n",
       "8  [[u'electronics', u'computers & accessories', ...  \n",
       "9  [[u'electronics', u'computers & accessories', ...  "
      ]
     },
     "execution_count": 2,
     "metadata": {},
     "output_type": "execute_result"
    }
   ],
   "source": [
    "df = pd.read_csv(\"amazon_ratings.csv\")\n",
    "df.head(10)"
   ]
  },
  {
   "cell_type": "markdown",
   "metadata": {},
   "source": [
    "Transform categories into list"
   ]
  },
  {
   "cell_type": "code",
   "execution_count": 3,
   "metadata": {
    "collapsed": false
   },
   "outputs": [
    {
     "data": {
      "text/html": [
       "<div>\n",
       "<table border=\"1\" class=\"dataframe\">\n",
       "  <thead>\n",
       "    <tr style=\"text-align: right;\">\n",
       "      <th></th>\n",
       "      <th>user_id</th>\n",
       "      <th>item_id</th>\n",
       "      <th>rating</th>\n",
       "      <th>timestamp</th>\n",
       "      <th>category</th>\n",
       "    </tr>\n",
       "  </thead>\n",
       "  <tbody>\n",
       "    <tr>\n",
       "      <th>0</th>\n",
       "      <td>A00027081JC8NE8X6TD5</td>\n",
       "      <td>B003U8ENTI</td>\n",
       "      <td>5.0</td>\n",
       "      <td>1367625600</td>\n",
       "      <td>electronics</td>\n",
       "    </tr>\n",
       "    <tr>\n",
       "      <th>1</th>\n",
       "      <td>A00090122PEQW7864EC8L</td>\n",
       "      <td>B004JW1B8A</td>\n",
       "      <td>1.0</td>\n",
       "      <td>1354492800</td>\n",
       "      <td>toys &amp; games</td>\n",
       "    </tr>\n",
       "    <tr>\n",
       "      <th>2</th>\n",
       "      <td>A0009686KROLKEH2EHF4</td>\n",
       "      <td>B000I7GST2</td>\n",
       "      <td>5.0</td>\n",
       "      <td>1372723200</td>\n",
       "      <td>home &amp; kitchen</td>\n",
       "    </tr>\n",
       "    <tr>\n",
       "      <th>3</th>\n",
       "      <td>A0023922YYT81KP1CWU4</td>\n",
       "      <td>B000R9AAJA</td>\n",
       "      <td>5.0</td>\n",
       "      <td>1353542400</td>\n",
       "      <td>electronics</td>\n",
       "    </tr>\n",
       "    <tr>\n",
       "      <th>4</th>\n",
       "      <td>A00277003AGRC9WJJ555O</td>\n",
       "      <td>B002FU5QM0</td>\n",
       "      <td>5.0</td>\n",
       "      <td>1353196800</td>\n",
       "      <td>electronics</td>\n",
       "    </tr>\n",
       "    <tr>\n",
       "      <th>5</th>\n",
       "      <td>A00311601FOXCO2AIRNIF</td>\n",
       "      <td>B003LCV4RM</td>\n",
       "      <td>5.0</td>\n",
       "      <td>1382054400</td>\n",
       "      <td>patio, lawn &amp; garden</td>\n",
       "    </tr>\n",
       "    <tr>\n",
       "      <th>6</th>\n",
       "      <td>A00317262XRVTNR5YJQYQ</td>\n",
       "      <td>B001MQ8BDE</td>\n",
       "      <td>5.0</td>\n",
       "      <td>1362096000</td>\n",
       "      <td>electronics</td>\n",
       "    </tr>\n",
       "    <tr>\n",
       "      <th>7</th>\n",
       "      <td>A0031944XK4KVC58YJ6I</td>\n",
       "      <td>B003U8GCJC</td>\n",
       "      <td>5.0</td>\n",
       "      <td>1355702400</td>\n",
       "      <td>electronics</td>\n",
       "    </tr>\n",
       "    <tr>\n",
       "      <th>8</th>\n",
       "      <td>A00343841Z6YRUBZ6K0W3</td>\n",
       "      <td>B0015C30J0</td>\n",
       "      <td>5.0</td>\n",
       "      <td>1386374400</td>\n",
       "      <td>electronics</td>\n",
       "    </tr>\n",
       "    <tr>\n",
       "      <th>9</th>\n",
       "      <td>A0047322388NOTO4N8SKD</td>\n",
       "      <td>B002FU5QLQ</td>\n",
       "      <td>4.0</td>\n",
       "      <td>1398038400</td>\n",
       "      <td>electronics</td>\n",
       "    </tr>\n",
       "  </tbody>\n",
       "</table>\n",
       "</div>"
      ],
      "text/plain": [
       "                 user_id     item_id  rating   timestamp              category\n",
       "0   A00027081JC8NE8X6TD5  B003U8ENTI     5.0  1367625600           electronics\n",
       "1  A00090122PEQW7864EC8L  B004JW1B8A     1.0  1354492800          toys & games\n",
       "2   A0009686KROLKEH2EHF4  B000I7GST2     5.0  1372723200        home & kitchen\n",
       "3   A0023922YYT81KP1CWU4  B000R9AAJA     5.0  1353542400           electronics\n",
       "4  A00277003AGRC9WJJ555O  B002FU5QM0     5.0  1353196800           electronics\n",
       "5  A00311601FOXCO2AIRNIF  B003LCV4RM     5.0  1382054400  patio, lawn & garden\n",
       "6  A00317262XRVTNR5YJQYQ  B001MQ8BDE     5.0  1362096000           electronics\n",
       "7   A0031944XK4KVC58YJ6I  B003U8GCJC     5.0  1355702400           electronics\n",
       "8  A00343841Z6YRUBZ6K0W3  B0015C30J0     5.0  1386374400           electronics\n",
       "9  A0047322388NOTO4N8SKD  B002FU5QLQ     4.0  1398038400           electronics"
      ]
     },
     "execution_count": 3,
     "metadata": {},
     "output_type": "execute_result"
    }
   ],
   "source": [
    "def get_category(x): \n",
    "    while 'u\\'' in x:\n",
    "        x = x.replace('u\\'','\\'')\n",
    "    for y in eval(x):\n",
    "        for first in y:\n",
    "            return first\n",
    "df['category'] = df['category'].apply(get_category)\n",
    "df.head(10)"
   ]
  },
  {
   "cell_type": "markdown",
   "metadata": {},
   "source": [
    "Give number to each review according to n-th review of a user"
   ]
  },
  {
   "cell_type": "code",
   "execution_count": 4,
   "metadata": {
    "collapsed": false
   },
   "outputs": [
    {
     "data": {
      "text/html": [
       "<div>\n",
       "<table border=\"1\" class=\"dataframe\">\n",
       "  <thead>\n",
       "    <tr style=\"text-align: right;\">\n",
       "      <th></th>\n",
       "      <th>user_id</th>\n",
       "      <th>item_id</th>\n",
       "      <th>rating</th>\n",
       "      <th>timestamp</th>\n",
       "      <th>category</th>\n",
       "    </tr>\n",
       "  </thead>\n",
       "  <tbody>\n",
       "    <tr>\n",
       "      <th>10</th>\n",
       "      <td>A00473363TJ8YSZ3YAGG9</td>\n",
       "      <td>B000CO256G</td>\n",
       "      <td>4.0</td>\n",
       "      <td>1386374400</td>\n",
       "      <td>home &amp; kitchen</td>\n",
       "    </tr>\n",
       "    <tr>\n",
       "      <th>11</th>\n",
       "      <td>A00473363TJ8YSZ3YAGG9</td>\n",
       "      <td>B003NR57BY</td>\n",
       "      <td>4.0</td>\n",
       "      <td>1402790400</td>\n",
       "      <td>electronics</td>\n",
       "    </tr>\n",
       "    <tr>\n",
       "      <th>12</th>\n",
       "      <td>A00522763IKV0D5Y37O73</td>\n",
       "      <td>B0077JNN4M</td>\n",
       "      <td>1.0</td>\n",
       "      <td>1380326400</td>\n",
       "      <td>electronics</td>\n",
       "    </tr>\n",
       "    <tr>\n",
       "      <th>13</th>\n",
       "      <td>A00563582R9P6LHW7UQPE</td>\n",
       "      <td>B000VEFAT6</td>\n",
       "      <td>5.0</td>\n",
       "      <td>1395273600</td>\n",
       "      <td>clothing, shoes &amp; jewelry</td>\n",
       "    </tr>\n",
       "    <tr>\n",
       "      <th>14</th>\n",
       "      <td>A00563582R9P6LHW7UQPE</td>\n",
       "      <td>B000VEIV92</td>\n",
       "      <td>5.0</td>\n",
       "      <td>1395273600</td>\n",
       "      <td>clothing, shoes &amp; jewelry</td>\n",
       "    </tr>\n",
       "    <tr>\n",
       "      <th>15</th>\n",
       "      <td>A00563582R9P6LHW7UQPE</td>\n",
       "      <td>B000VEKR4Y</td>\n",
       "      <td>5.0</td>\n",
       "      <td>1395273600</td>\n",
       "      <td>clothing, shoes &amp; jewelry</td>\n",
       "    </tr>\n",
       "    <tr>\n",
       "      <th>16</th>\n",
       "      <td>A00592422DB3X8BEM3SM0</td>\n",
       "      <td>B005DSPLDA</td>\n",
       "      <td>1.0</td>\n",
       "      <td>1370044800</td>\n",
       "      <td>electronics</td>\n",
       "    </tr>\n",
       "    <tr>\n",
       "      <th>17</th>\n",
       "      <td>A006680338J29DP17XALU</td>\n",
       "      <td>B000BXHPEU</td>\n",
       "      <td>5.0</td>\n",
       "      <td>1378080000</td>\n",
       "      <td>baby</td>\n",
       "    </tr>\n",
       "    <tr>\n",
       "      <th>18</th>\n",
       "      <td>A00748713B8XQ8AQVH81N</td>\n",
       "      <td>B005DKZTNK</td>\n",
       "      <td>5.0</td>\n",
       "      <td>1391817600</td>\n",
       "      <td>electronics</td>\n",
       "    </tr>\n",
       "    <tr>\n",
       "      <th>20</th>\n",
       "      <td>A007743726L8HR1FUGX5E</td>\n",
       "      <td>B0088BMX3U</td>\n",
       "      <td>5.0</td>\n",
       "      <td>1363305600</td>\n",
       "      <td>clothing, shoes &amp; jewelry</td>\n",
       "    </tr>\n",
       "  </tbody>\n",
       "</table>\n",
       "</div>"
      ],
      "text/plain": [
       "                  user_id     item_id  rating   timestamp  \\\n",
       "10  A00473363TJ8YSZ3YAGG9  B000CO256G     4.0  1386374400   \n",
       "11  A00473363TJ8YSZ3YAGG9  B003NR57BY     4.0  1402790400   \n",
       "12  A00522763IKV0D5Y37O73  B0077JNN4M     1.0  1380326400   \n",
       "13  A00563582R9P6LHW7UQPE  B000VEFAT6     5.0  1395273600   \n",
       "14  A00563582R9P6LHW7UQPE  B000VEIV92     5.0  1395273600   \n",
       "15  A00563582R9P6LHW7UQPE  B000VEKR4Y     5.0  1395273600   \n",
       "16  A00592422DB3X8BEM3SM0  B005DSPLDA     1.0  1370044800   \n",
       "17  A006680338J29DP17XALU  B000BXHPEU     5.0  1378080000   \n",
       "18  A00748713B8XQ8AQVH81N  B005DKZTNK     5.0  1391817600   \n",
       "20  A007743726L8HR1FUGX5E  B0088BMX3U     5.0  1363305600   \n",
       "\n",
       "                     category  \n",
       "10             home & kitchen  \n",
       "11                electronics  \n",
       "12                electronics  \n",
       "13  clothing, shoes & jewelry  \n",
       "14  clothing, shoes & jewelry  \n",
       "15  clothing, shoes & jewelry  \n",
       "16                electronics  \n",
       "17                       baby  \n",
       "18                electronics  \n",
       "20  clothing, shoes & jewelry  "
      ]
     },
     "execution_count": 4,
     "metadata": {},
     "output_type": "execute_result"
    }
   ],
   "source": [
    "df = df.sort_values(['user_id', 'timestamp'])\n",
    "df[10:20]"
   ]
  },
  {
   "cell_type": "code",
   "execution_count": 5,
   "metadata": {
    "collapsed": false
   },
   "outputs": [
    {
     "data": {
      "text/html": [
       "<div>\n",
       "<table border=\"1\" class=\"dataframe\">\n",
       "  <thead>\n",
       "    <tr style=\"text-align: right;\">\n",
       "      <th></th>\n",
       "      <th>user_id</th>\n",
       "      <th>item_id</th>\n",
       "      <th>rating</th>\n",
       "      <th>timestamp</th>\n",
       "      <th>category</th>\n",
       "      <th>nth_user</th>\n",
       "    </tr>\n",
       "  </thead>\n",
       "  <tbody>\n",
       "    <tr>\n",
       "      <th>10</th>\n",
       "      <td>A00473363TJ8YSZ3YAGG9</td>\n",
       "      <td>B000CO256G</td>\n",
       "      <td>4.0</td>\n",
       "      <td>1386374400</td>\n",
       "      <td>home &amp; kitchen</td>\n",
       "      <td>1</td>\n",
       "    </tr>\n",
       "    <tr>\n",
       "      <th>11</th>\n",
       "      <td>A00473363TJ8YSZ3YAGG9</td>\n",
       "      <td>B003NR57BY</td>\n",
       "      <td>4.0</td>\n",
       "      <td>1402790400</td>\n",
       "      <td>electronics</td>\n",
       "      <td>2</td>\n",
       "    </tr>\n",
       "    <tr>\n",
       "      <th>12</th>\n",
       "      <td>A00522763IKV0D5Y37O73</td>\n",
       "      <td>B0077JNN4M</td>\n",
       "      <td>1.0</td>\n",
       "      <td>1380326400</td>\n",
       "      <td>electronics</td>\n",
       "      <td>1</td>\n",
       "    </tr>\n",
       "    <tr>\n",
       "      <th>13</th>\n",
       "      <td>A00563582R9P6LHW7UQPE</td>\n",
       "      <td>B000VEFAT6</td>\n",
       "      <td>5.0</td>\n",
       "      <td>1395273600</td>\n",
       "      <td>clothing, shoes &amp; jewelry</td>\n",
       "      <td>1</td>\n",
       "    </tr>\n",
       "    <tr>\n",
       "      <th>14</th>\n",
       "      <td>A00563582R9P6LHW7UQPE</td>\n",
       "      <td>B000VEIV92</td>\n",
       "      <td>5.0</td>\n",
       "      <td>1395273600</td>\n",
       "      <td>clothing, shoes &amp; jewelry</td>\n",
       "      <td>2</td>\n",
       "    </tr>\n",
       "    <tr>\n",
       "      <th>15</th>\n",
       "      <td>A00563582R9P6LHW7UQPE</td>\n",
       "      <td>B000VEKR4Y</td>\n",
       "      <td>5.0</td>\n",
       "      <td>1395273600</td>\n",
       "      <td>clothing, shoes &amp; jewelry</td>\n",
       "      <td>3</td>\n",
       "    </tr>\n",
       "    <tr>\n",
       "      <th>16</th>\n",
       "      <td>A00592422DB3X8BEM3SM0</td>\n",
       "      <td>B005DSPLDA</td>\n",
       "      <td>1.0</td>\n",
       "      <td>1370044800</td>\n",
       "      <td>electronics</td>\n",
       "      <td>1</td>\n",
       "    </tr>\n",
       "    <tr>\n",
       "      <th>17</th>\n",
       "      <td>A006680338J29DP17XALU</td>\n",
       "      <td>B000BXHPEU</td>\n",
       "      <td>5.0</td>\n",
       "      <td>1378080000</td>\n",
       "      <td>baby</td>\n",
       "      <td>1</td>\n",
       "    </tr>\n",
       "    <tr>\n",
       "      <th>18</th>\n",
       "      <td>A00748713B8XQ8AQVH81N</td>\n",
       "      <td>B005DKZTNK</td>\n",
       "      <td>5.0</td>\n",
       "      <td>1391817600</td>\n",
       "      <td>electronics</td>\n",
       "      <td>1</td>\n",
       "    </tr>\n",
       "    <tr>\n",
       "      <th>20</th>\n",
       "      <td>A007743726L8HR1FUGX5E</td>\n",
       "      <td>B0088BMX3U</td>\n",
       "      <td>5.0</td>\n",
       "      <td>1363305600</td>\n",
       "      <td>clothing, shoes &amp; jewelry</td>\n",
       "      <td>2</td>\n",
       "    </tr>\n",
       "  </tbody>\n",
       "</table>\n",
       "</div>"
      ],
      "text/plain": [
       "                  user_id     item_id  rating   timestamp  \\\n",
       "10  A00473363TJ8YSZ3YAGG9  B000CO256G     4.0  1386374400   \n",
       "11  A00473363TJ8YSZ3YAGG9  B003NR57BY     4.0  1402790400   \n",
       "12  A00522763IKV0D5Y37O73  B0077JNN4M     1.0  1380326400   \n",
       "13  A00563582R9P6LHW7UQPE  B000VEFAT6     5.0  1395273600   \n",
       "14  A00563582R9P6LHW7UQPE  B000VEIV92     5.0  1395273600   \n",
       "15  A00563582R9P6LHW7UQPE  B000VEKR4Y     5.0  1395273600   \n",
       "16  A00592422DB3X8BEM3SM0  B005DSPLDA     1.0  1370044800   \n",
       "17  A006680338J29DP17XALU  B000BXHPEU     5.0  1378080000   \n",
       "18  A00748713B8XQ8AQVH81N  B005DKZTNK     5.0  1391817600   \n",
       "20  A007743726L8HR1FUGX5E  B0088BMX3U     5.0  1363305600   \n",
       "\n",
       "                     category  nth_user  \n",
       "10             home & kitchen         1  \n",
       "11                electronics         2  \n",
       "12                electronics         1  \n",
       "13  clothing, shoes & jewelry         1  \n",
       "14  clothing, shoes & jewelry         2  \n",
       "15  clothing, shoes & jewelry         3  \n",
       "16                electronics         1  \n",
       "17                       baby         1  \n",
       "18                electronics         1  \n",
       "20  clothing, shoes & jewelry         2  "
      ]
     },
     "execution_count": 5,
     "metadata": {},
     "output_type": "execute_result"
    }
   ],
   "source": [
    "df['nth_user'] = 1\n",
    "user_id = ''\n",
    "counter = 1\n",
    "for i in range(0,df.shape[0]):\n",
    "    if df.iloc[i].user_id != user_id:\n",
    "        counter = 1\n",
    "        user_id = df.iloc[i].user_id\n",
    "    else:\n",
    "        counter += 1\n",
    "        df.set_value(i, 'nth_user', counter)\n",
    "df[10:20]        "
   ]
  },
  {
   "cell_type": "markdown",
   "metadata": {},
   "source": [
    "Give number to each review according to n-th review of product"
   ]
  },
  {
   "cell_type": "code",
   "execution_count": 6,
   "metadata": {
    "collapsed": false
   },
   "outputs": [
    {
     "data": {
      "text/html": [
       "<div>\n",
       "<table border=\"1\" class=\"dataframe\">\n",
       "  <thead>\n",
       "    <tr style=\"text-align: right;\">\n",
       "      <th></th>\n",
       "      <th>user_id</th>\n",
       "      <th>item_id</th>\n",
       "      <th>rating</th>\n",
       "      <th>timestamp</th>\n",
       "      <th>category</th>\n",
       "      <th>nth_user</th>\n",
       "    </tr>\n",
       "  </thead>\n",
       "  <tbody>\n",
       "    <tr>\n",
       "      <th>0</th>\n",
       "      <td>AFJFXN42RZ3G2</td>\n",
       "      <td>0767821556</td>\n",
       "      <td>5.0</td>\n",
       "      <td>946944000</td>\n",
       "      <td>movies &amp; tv</td>\n",
       "      <td>1</td>\n",
       "    </tr>\n",
       "    <tr>\n",
       "      <th>1</th>\n",
       "      <td>A3BSS2M2DPPV4T</td>\n",
       "      <td>0767821556</td>\n",
       "      <td>4.0</td>\n",
       "      <td>948153600</td>\n",
       "      <td>movies &amp; tv</td>\n",
       "      <td>1</td>\n",
       "    </tr>\n",
       "    <tr>\n",
       "      <th>2</th>\n",
       "      <td>AETS5ZMP2EM1U</td>\n",
       "      <td>0767821556</td>\n",
       "      <td>3.0</td>\n",
       "      <td>952560000</td>\n",
       "      <td>movies &amp; tv</td>\n",
       "      <td>1</td>\n",
       "    </tr>\n",
       "    <tr>\n",
       "      <th>3</th>\n",
       "      <td>A2DTEU2045AVZ3</td>\n",
       "      <td>0767821556</td>\n",
       "      <td>4.0</td>\n",
       "      <td>954115200</td>\n",
       "      <td>movies &amp; tv</td>\n",
       "      <td>1</td>\n",
       "    </tr>\n",
       "    <tr>\n",
       "      <th>4</th>\n",
       "      <td>A3R2YB0WTTB0IJ</td>\n",
       "      <td>0767821556</td>\n",
       "      <td>3.0</td>\n",
       "      <td>955324800</td>\n",
       "      <td>movies &amp; tv</td>\n",
       "      <td>1</td>\n",
       "    </tr>\n",
       "  </tbody>\n",
       "</table>\n",
       "</div>"
      ],
      "text/plain": [
       "          user_id     item_id  rating  timestamp     category  nth_user\n",
       "0   AFJFXN42RZ3G2  0767821556     5.0  946944000  movies & tv         1\n",
       "1  A3BSS2M2DPPV4T  0767821556     4.0  948153600  movies & tv         1\n",
       "2   AETS5ZMP2EM1U  0767821556     3.0  952560000  movies & tv         1\n",
       "3  A2DTEU2045AVZ3  0767821556     4.0  954115200  movies & tv         1\n",
       "4  A3R2YB0WTTB0IJ  0767821556     3.0  955324800  movies & tv         1"
      ]
     },
     "execution_count": 6,
     "metadata": {},
     "output_type": "execute_result"
    }
   ],
   "source": [
    "df = df.sort_values(['item_id', 'timestamp']).reset_index(drop=True)\n",
    "df.head()"
   ]
  },
  {
   "cell_type": "code",
   "execution_count": 7,
   "metadata": {
    "collapsed": false
   },
   "outputs": [
    {
     "data": {
      "text/html": [
       "<div>\n",
       "<table border=\"1\" class=\"dataframe\">\n",
       "  <thead>\n",
       "    <tr style=\"text-align: right;\">\n",
       "      <th></th>\n",
       "      <th>user_id</th>\n",
       "      <th>item_id</th>\n",
       "      <th>rating</th>\n",
       "      <th>timestamp</th>\n",
       "      <th>category</th>\n",
       "      <th>nth_user</th>\n",
       "      <th>nth_product</th>\n",
       "    </tr>\n",
       "  </thead>\n",
       "  <tbody>\n",
       "    <tr>\n",
       "      <th>0</th>\n",
       "      <td>AFJFXN42RZ3G2</td>\n",
       "      <td>0767821556</td>\n",
       "      <td>5.0</td>\n",
       "      <td>946944000</td>\n",
       "      <td>movies &amp; tv</td>\n",
       "      <td>1</td>\n",
       "      <td>1</td>\n",
       "    </tr>\n",
       "    <tr>\n",
       "      <th>1</th>\n",
       "      <td>A3BSS2M2DPPV4T</td>\n",
       "      <td>0767821556</td>\n",
       "      <td>4.0</td>\n",
       "      <td>948153600</td>\n",
       "      <td>movies &amp; tv</td>\n",
       "      <td>1</td>\n",
       "      <td>2</td>\n",
       "    </tr>\n",
       "    <tr>\n",
       "      <th>2</th>\n",
       "      <td>AETS5ZMP2EM1U</td>\n",
       "      <td>0767821556</td>\n",
       "      <td>3.0</td>\n",
       "      <td>952560000</td>\n",
       "      <td>movies &amp; tv</td>\n",
       "      <td>1</td>\n",
       "      <td>3</td>\n",
       "    </tr>\n",
       "    <tr>\n",
       "      <th>3</th>\n",
       "      <td>A2DTEU2045AVZ3</td>\n",
       "      <td>0767821556</td>\n",
       "      <td>4.0</td>\n",
       "      <td>954115200</td>\n",
       "      <td>movies &amp; tv</td>\n",
       "      <td>1</td>\n",
       "      <td>4</td>\n",
       "    </tr>\n",
       "    <tr>\n",
       "      <th>4</th>\n",
       "      <td>A3R2YB0WTTB0IJ</td>\n",
       "      <td>0767821556</td>\n",
       "      <td>3.0</td>\n",
       "      <td>955324800</td>\n",
       "      <td>movies &amp; tv</td>\n",
       "      <td>1</td>\n",
       "      <td>5</td>\n",
       "    </tr>\n",
       "  </tbody>\n",
       "</table>\n",
       "</div>"
      ],
      "text/plain": [
       "          user_id     item_id  rating  timestamp     category  nth_user  \\\n",
       "0   AFJFXN42RZ3G2  0767821556     5.0  946944000  movies & tv         1   \n",
       "1  A3BSS2M2DPPV4T  0767821556     4.0  948153600  movies & tv         1   \n",
       "2   AETS5ZMP2EM1U  0767821556     3.0  952560000  movies & tv         1   \n",
       "3  A2DTEU2045AVZ3  0767821556     4.0  954115200  movies & tv         1   \n",
       "4  A3R2YB0WTTB0IJ  0767821556     3.0  955324800  movies & tv         1   \n",
       "\n",
       "   nth_product  \n",
       "0            1  \n",
       "1            2  \n",
       "2            3  \n",
       "3            4  \n",
       "4            5  "
      ]
     },
     "execution_count": 7,
     "metadata": {},
     "output_type": "execute_result"
    }
   ],
   "source": [
    "df['nth_product'] = 1\n",
    "item_id = ''\n",
    "counter = 1\n",
    "for i in range(0,df.shape[0]):\n",
    "    if df.iloc[i].item_id != item_id:\n",
    "        counter = 1\n",
    "        item_id = df.iloc[i].item_id\n",
    "    else:\n",
    "        counter += 1\n",
    "        df.set_value(i, 'nth_product', counter)\n",
    "df.head()   "
   ]
  },
  {
   "cell_type": "markdown",
   "metadata": {},
   "source": [
    "Transform date into readable date"
   ]
  },
  {
   "cell_type": "code",
   "execution_count": 8,
   "metadata": {
    "collapsed": false
   },
   "outputs": [
    {
     "data": {
      "text/html": [
       "<div>\n",
       "<table border=\"1\" class=\"dataframe\">\n",
       "  <thead>\n",
       "    <tr style=\"text-align: right;\">\n",
       "      <th></th>\n",
       "      <th>user_id</th>\n",
       "      <th>item_id</th>\n",
       "      <th>rating</th>\n",
       "      <th>timestamp</th>\n",
       "      <th>category</th>\n",
       "      <th>nth_user</th>\n",
       "      <th>nth_product</th>\n",
       "      <th>time</th>\n",
       "    </tr>\n",
       "  </thead>\n",
       "  <tbody>\n",
       "    <tr>\n",
       "      <th>0</th>\n",
       "      <td>AFJFXN42RZ3G2</td>\n",
       "      <td>0767821556</td>\n",
       "      <td>5.0</td>\n",
       "      <td>946944000</td>\n",
       "      <td>movies &amp; tv</td>\n",
       "      <td>1</td>\n",
       "      <td>1</td>\n",
       "      <td>2000-01-04 01:00:00</td>\n",
       "    </tr>\n",
       "    <tr>\n",
       "      <th>1</th>\n",
       "      <td>A3BSS2M2DPPV4T</td>\n",
       "      <td>0767821556</td>\n",
       "      <td>4.0</td>\n",
       "      <td>948153600</td>\n",
       "      <td>movies &amp; tv</td>\n",
       "      <td>1</td>\n",
       "      <td>2</td>\n",
       "      <td>2000-01-18 01:00:00</td>\n",
       "    </tr>\n",
       "    <tr>\n",
       "      <th>2</th>\n",
       "      <td>AETS5ZMP2EM1U</td>\n",
       "      <td>0767821556</td>\n",
       "      <td>3.0</td>\n",
       "      <td>952560000</td>\n",
       "      <td>movies &amp; tv</td>\n",
       "      <td>1</td>\n",
       "      <td>3</td>\n",
       "      <td>2000-03-09 01:00:00</td>\n",
       "    </tr>\n",
       "    <tr>\n",
       "      <th>3</th>\n",
       "      <td>A2DTEU2045AVZ3</td>\n",
       "      <td>0767821556</td>\n",
       "      <td>4.0</td>\n",
       "      <td>954115200</td>\n",
       "      <td>movies &amp; tv</td>\n",
       "      <td>1</td>\n",
       "      <td>4</td>\n",
       "      <td>2000-03-27 02:00:00</td>\n",
       "    </tr>\n",
       "    <tr>\n",
       "      <th>4</th>\n",
       "      <td>A3R2YB0WTTB0IJ</td>\n",
       "      <td>0767821556</td>\n",
       "      <td>3.0</td>\n",
       "      <td>955324800</td>\n",
       "      <td>movies &amp; tv</td>\n",
       "      <td>1</td>\n",
       "      <td>5</td>\n",
       "      <td>2000-04-10 02:00:00</td>\n",
       "    </tr>\n",
       "    <tr>\n",
       "      <th>5</th>\n",
       "      <td>AGFBVUSNM1I89</td>\n",
       "      <td>0767821556</td>\n",
       "      <td>4.0</td>\n",
       "      <td>958003200</td>\n",
       "      <td>movies &amp; tv</td>\n",
       "      <td>1</td>\n",
       "      <td>6</td>\n",
       "      <td>2000-05-11 02:00:00</td>\n",
       "    </tr>\n",
       "    <tr>\n",
       "      <th>6</th>\n",
       "      <td>A1G56KHOUOFWDW</td>\n",
       "      <td>0767821556</td>\n",
       "      <td>4.0</td>\n",
       "      <td>958089600</td>\n",
       "      <td>movies &amp; tv</td>\n",
       "      <td>1</td>\n",
       "      <td>7</td>\n",
       "      <td>2000-05-12 02:00:00</td>\n",
       "    </tr>\n",
       "    <tr>\n",
       "      <th>7</th>\n",
       "      <td>A3F77BE1V4MW4Y</td>\n",
       "      <td>0767821556</td>\n",
       "      <td>4.0</td>\n",
       "      <td>961027200</td>\n",
       "      <td>movies &amp; tv</td>\n",
       "      <td>1</td>\n",
       "      <td>8</td>\n",
       "      <td>2000-06-15 02:00:00</td>\n",
       "    </tr>\n",
       "    <tr>\n",
       "      <th>8</th>\n",
       "      <td>A1HO9J4DCQDGP9</td>\n",
       "      <td>0767821556</td>\n",
       "      <td>5.0</td>\n",
       "      <td>964483200</td>\n",
       "      <td>movies &amp; tv</td>\n",
       "      <td>1</td>\n",
       "      <td>9</td>\n",
       "      <td>2000-07-25 02:00:00</td>\n",
       "    </tr>\n",
       "    <tr>\n",
       "      <th>9</th>\n",
       "      <td>A2OO9DS1RY5KXU</td>\n",
       "      <td>0767821556</td>\n",
       "      <td>5.0</td>\n",
       "      <td>993686400</td>\n",
       "      <td>movies &amp; tv</td>\n",
       "      <td>1</td>\n",
       "      <td>10</td>\n",
       "      <td>2001-06-28 02:00:00</td>\n",
       "    </tr>\n",
       "  </tbody>\n",
       "</table>\n",
       "</div>"
      ],
      "text/plain": [
       "          user_id     item_id  rating  timestamp     category  nth_user  \\\n",
       "0   AFJFXN42RZ3G2  0767821556     5.0  946944000  movies & tv         1   \n",
       "1  A3BSS2M2DPPV4T  0767821556     4.0  948153600  movies & tv         1   \n",
       "2   AETS5ZMP2EM1U  0767821556     3.0  952560000  movies & tv         1   \n",
       "3  A2DTEU2045AVZ3  0767821556     4.0  954115200  movies & tv         1   \n",
       "4  A3R2YB0WTTB0IJ  0767821556     3.0  955324800  movies & tv         1   \n",
       "5   AGFBVUSNM1I89  0767821556     4.0  958003200  movies & tv         1   \n",
       "6  A1G56KHOUOFWDW  0767821556     4.0  958089600  movies & tv         1   \n",
       "7  A3F77BE1V4MW4Y  0767821556     4.0  961027200  movies & tv         1   \n",
       "8  A1HO9J4DCQDGP9  0767821556     5.0  964483200  movies & tv         1   \n",
       "9  A2OO9DS1RY5KXU  0767821556     5.0  993686400  movies & tv         1   \n",
       "\n",
       "   nth_product                 time  \n",
       "0            1  2000-01-04 01:00:00  \n",
       "1            2  2000-01-18 01:00:00  \n",
       "2            3  2000-03-09 01:00:00  \n",
       "3            4  2000-03-27 02:00:00  \n",
       "4            5  2000-04-10 02:00:00  \n",
       "5            6  2000-05-11 02:00:00  \n",
       "6            7  2000-05-12 02:00:00  \n",
       "7            8  2000-06-15 02:00:00  \n",
       "8            9  2000-07-25 02:00:00  \n",
       "9           10  2001-06-28 02:00:00  "
      ]
     },
     "execution_count": 8,
     "metadata": {},
     "output_type": "execute_result"
    }
   ],
   "source": [
    "def get_time(x): \n",
    "    return datetime.datetime.fromtimestamp(\n",
    "        int(x)\n",
    "    ).strftime('%Y-%m-%d %H:%M:%S')\n",
    "\n",
    "df['time'] = df['timestamp'].apply(get_time)\n",
    "df.head(10)"
   ]
  },
  {
   "cell_type": "markdown",
   "metadata": {},
   "source": [
    "Unique authors"
   ]
  },
  {
   "cell_type": "code",
   "execution_count": 9,
   "metadata": {
    "collapsed": false
   },
   "outputs": [
    {
     "data": {
      "text/plain": [
       "1     196810\n",
       "2      20626\n",
       "3       9887\n",
       "4       2974\n",
       "5       1551\n",
       "6       1461\n",
       "7        392\n",
       "8        176\n",
       "9         84\n",
       "10       134\n",
       "11        41\n",
       "12        20\n",
       "13        19\n",
       "14        12\n",
       "15         8\n",
       "16         9\n",
       "17         6\n",
       "18         3\n",
       "19         5\n",
       "20         5\n",
       "21         3\n",
       "22         2\n",
       "23         2\n",
       "24         6\n",
       "25         1\n",
       "26         1\n",
       "28         1\n",
       "29         1\n",
       "33         1\n",
       "41         1\n",
       "43         2\n",
       "65         1\n",
       "Name: user_id, dtype: int64"
      ]
     },
     "execution_count": 9,
     "metadata": {},
     "output_type": "execute_result"
    }
   ],
   "source": [
    "df_user_review_counts = df.groupby(df.user_id)\n",
    "counts = df_user_review_counts.count().ix[:,0].value_counts().sort_index()\n",
    "counts"
   ]
  },
  {
   "cell_type": "code",
   "execution_count": 10,
   "metadata": {
    "collapsed": false
   },
   "outputs": [
    {
     "data": {
      "text/html": [
       "<div>\n",
       "<table border=\"1\" class=\"dataframe\">\n",
       "  <thead>\n",
       "    <tr style=\"text-align: right;\">\n",
       "      <th></th>\n",
       "      <th>num_reviews</th>\n",
       "      <th>prop</th>\n",
       "    </tr>\n",
       "  </thead>\n",
       "  <tbody>\n",
       "    <tr>\n",
       "      <th>0</th>\n",
       "      <td>1</td>\n",
       "      <td>0.840189</td>\n",
       "    </tr>\n",
       "    <tr>\n",
       "      <th>1</th>\n",
       "      <td>2</td>\n",
       "      <td>0.928242</td>\n",
       "    </tr>\n",
       "    <tr>\n",
       "      <th>2</th>\n",
       "      <td>3</td>\n",
       "      <td>0.970450</td>\n",
       "    </tr>\n",
       "    <tr>\n",
       "      <th>3</th>\n",
       "      <td>4</td>\n",
       "      <td>0.983146</td>\n",
       "    </tr>\n",
       "    <tr>\n",
       "      <th>4</th>\n",
       "      <td>5</td>\n",
       "      <td>0.989767</td>\n",
       "    </tr>\n",
       "  </tbody>\n",
       "</table>\n",
       "</div>"
      ],
      "text/plain": [
       "   num_reviews      prop\n",
       "0            1  0.840189\n",
       "1            2  0.928242\n",
       "2            3  0.970450\n",
       "3            4  0.983146\n",
       "4            5  0.989767"
      ]
     },
     "execution_count": 10,
     "metadata": {},
     "output_type": "execute_result"
    }
   ],
   "source": [
    "num_reviews = []\n",
    "prop = []\n",
    "\n",
    "s = 0\n",
    "for i in range(0,counts.shape[0]):\n",
    "    num_reviews.append(counts.index[i])\n",
    "    s += counts.iloc[i]/sum(counts)\n",
    "    prop.append(s)\n",
    "\n",
    "df_counts = pd.DataFrame(\n",
    "    {'num_reviews': num_reviews,\n",
    "     'prop': prop\n",
    "    })\n",
    "df_counts.head()"
   ]
  },
  {
   "cell_type": "code",
   "execution_count": 11,
   "metadata": {
    "collapsed": false
   },
   "outputs": [
    {
     "data": {
      "text/plain": [
       "(0, 50)"
      ]
     },
     "execution_count": 11,
     "metadata": {},
     "output_type": "execute_result"
    },
    {
     "data": {
      "image/png": "[encoded data removed]",
      "text/plain": [
       "<matplotlib.figure.Figure at 0x1f458327eb8>"
      ]
     },
     "metadata": {},
     "output_type": "display_data"
    }
   ],
   "source": [
    "ax = df_counts.plot(x='num_reviews', y='prop', figsize=(9,7),\n",
    "                    color=\"#2980b9\", legend=None, title=\"Cumulative Proportion of # Amazon Reviews Given by User\")\n",
    "ax.set_xlabel(\"# Reviews Given By User\")\n",
    "ax.set_ylabel(\"Cumulative Proportion of All Amazon Reviewers\")\n",
    "ax.set_ylim((0,1.1))\n",
    "ax.yaxis.set_ticks(np.arange(0, 1.1, 0.25))\n",
    "ax.set_xlim((0,50))"
   ]
  },
  {
   "cell_type": "code",
   "execution_count": 12,
   "metadata": {
    "collapsed": false
   },
   "outputs": [
    {
     "data": {
      "text/plain": [
       "1       2503\n",
       "2       1472\n",
       "3        889\n",
       "4        642\n",
       "5        457\n",
       "6        340\n",
       "7        307\n",
       "8        229\n",
       "9        207\n",
       "10       171\n",
       "11       140\n",
       "12       155\n",
       "13       141\n",
       "14       132\n",
       "15        89\n",
       "16        85\n",
       "17        84\n",
       "18        70\n",
       "19        75\n",
       "20        62\n",
       "21        62\n",
       "22        52\n",
       "23        55\n",
       "24        49\n",
       "25        64\n",
       "26        41\n",
       "27        32\n",
       "28        49\n",
       "29        41\n",
       "30        32\n",
       "        ... \n",
       "1228       1\n",
       "1256       1\n",
       "1270       1\n",
       "1307       1\n",
       "1319       1\n",
       "1416       1\n",
       "1495       1\n",
       "1525       1\n",
       "1535       1\n",
       "1542       1\n",
       "1543       1\n",
       "1546       1\n",
       "1549       1\n",
       "1572       1\n",
       "1575       1\n",
       "1578       1\n",
       "1643       1\n",
       "1691       1\n",
       "1770       1\n",
       "1791       1\n",
       "1877       1\n",
       "1910       1\n",
       "2015       1\n",
       "2180       1\n",
       "2344       1\n",
       "2425       1\n",
       "2582       2\n",
       "2729       1\n",
       "3394       1\n",
       "4185       1\n",
       "Name: user_id, dtype: int64"
      ]
     },
     "execution_count": 12,
     "metadata": {},
     "output_type": "execute_result"
    }
   ],
   "source": [
    "df_user_review_counts = df.groupby(df.item_id)\n",
    "counts = df_user_review_counts.count().ix[:,0].value_counts().sort_index()\n",
    "counts"
   ]
  },
  {
   "cell_type": "code",
   "execution_count": 13,
   "metadata": {
    "collapsed": false
   },
   "outputs": [
    {
     "data": {
      "text/html": [
       "<div>\n",
       "<table border=\"1\" class=\"dataframe\">\n",
       "  <thead>\n",
       "    <tr style=\"text-align: right;\">\n",
       "      <th></th>\n",
       "      <th>num_reviews</th>\n",
       "      <th>prop</th>\n",
       "    </tr>\n",
       "  </thead>\n",
       "  <tbody>\n",
       "    <tr>\n",
       "      <th>0</th>\n",
       "      <td>1</td>\n",
       "      <td>0.250250</td>\n",
       "    </tr>\n",
       "    <tr>\n",
       "      <th>1</th>\n",
       "      <td>2</td>\n",
       "      <td>0.397421</td>\n",
       "    </tr>\n",
       "    <tr>\n",
       "      <th>2</th>\n",
       "      <td>3</td>\n",
       "      <td>0.486303</td>\n",
       "    </tr>\n",
       "    <tr>\n",
       "      <th>3</th>\n",
       "      <td>4</td>\n",
       "      <td>0.550490</td>\n",
       "    </tr>\n",
       "    <tr>\n",
       "      <th>4</th>\n",
       "      <td>5</td>\n",
       "      <td>0.596181</td>\n",
       "    </tr>\n",
       "  </tbody>\n",
       "</table>\n",
       "</div>"
      ],
      "text/plain": [
       "   num_reviews      prop\n",
       "0            1  0.250250\n",
       "1            2  0.397421\n",
       "2            3  0.486303\n",
       "3            4  0.550490\n",
       "4            5  0.596181"
      ]
     },
     "execution_count": 13,
     "metadata": {},
     "output_type": "execute_result"
    }
   ],
   "source": [
    "num_reviews = []\n",
    "prop = []\n",
    "\n",
    "s = 0\n",
    "for i in range(0,counts.shape[0]):\n",
    "    num_reviews.append(counts.index[i])\n",
    "    s += counts.iloc[i]/sum(counts)\n",
    "    prop.append(s)\n",
    "\n",
    "df_counts = pd.DataFrame(\n",
    "    {'num_reviews': num_reviews,\n",
    "     'prop': prop\n",
    "    })\n",
    "df_counts.head()"
   ]
  },
  {
   "cell_type": "code",
   "execution_count": 14,
   "metadata": {
    "collapsed": false
   },
   "outputs": [
    {
     "data": {
      "text/plain": [
       "(0, 50)"
      ]
     },
     "execution_count": 14,
     "metadata": {},
     "output_type": "execute_result"
    },
    {
     "data": {
      "image/png": "[encoded data removed]",
      "text/plain": [
       "<matplotlib.figure.Figure at 0x1f45487b2e8>"
      ]
     },
     "metadata": {},
     "output_type": "display_data"
    }
   ],
   "source": [
    "ax = df_counts.plot(x='num_reviews', y='prop', figsize=(9,7),\n",
    "                    color=\"#27ae60\", legend=None, title=\"Cumulative Proportion of # Reviews Given For Product\")\n",
    "ax.set_xlabel(\"# Reviews Given For Product\")\n",
    "ax.set_ylabel(\"Cumulative Proportion of All Amazon Products\")\n",
    "ax.set_ylim((0,1.1))\n",
    "ax.yaxis.set_ticks(np.arange(0, 1.1, 0.25))\n",
    "ax.set_xlim((0,50))"
   ]
  },
  {
   "cell_type": "code",
   "execution_count": 15,
   "metadata": {
    "collapsed": false
   },
   "outputs": [
    {
     "data": {
      "text/html": [
       "<div>\n",
       "<table border=\"1\" class=\"dataframe\">\n",
       "  <thead>\n",
       "    <tr style=\"text-align: right;\">\n",
       "      <th></th>\n",
       "      <th>avg_rating</th>\n",
       "      <th>count</th>\n",
       "    </tr>\n",
       "    <tr>\n",
       "      <th>category</th>\n",
       "      <th></th>\n",
       "      <th></th>\n",
       "    </tr>\n",
       "  </thead>\n",
       "  <tbody>\n",
       "    <tr>\n",
       "      <th>all beauty</th>\n",
       "      <td>4.600000</td>\n",
       "      <td>10</td>\n",
       "    </tr>\n",
       "    <tr>\n",
       "      <th>all electronics</th>\n",
       "      <td>4.185185</td>\n",
       "      <td>270</td>\n",
       "    </tr>\n",
       "    <tr>\n",
       "      <th>amazon fashion</th>\n",
       "      <td>4.376923</td>\n",
       "      <td>130</td>\n",
       "    </tr>\n",
       "    <tr>\n",
       "      <th>appliances</th>\n",
       "      <td>4.600000</td>\n",
       "      <td>5</td>\n",
       "    </tr>\n",
       "    <tr>\n",
       "      <th>arts, crafts &amp; sewing</th>\n",
       "      <td>4.321429</td>\n",
       "      <td>476</td>\n",
       "    </tr>\n",
       "    <tr>\n",
       "      <th>automotive</th>\n",
       "      <td>4.020660</td>\n",
       "      <td>4453</td>\n",
       "    </tr>\n",
       "    <tr>\n",
       "      <th>baby</th>\n",
       "      <td>4.305796</td>\n",
       "      <td>2312</td>\n",
       "    </tr>\n",
       "    <tr>\n",
       "      <th>baby products</th>\n",
       "      <td>4.623529</td>\n",
       "      <td>510</td>\n",
       "    </tr>\n",
       "    <tr>\n",
       "      <th>beauty</th>\n",
       "      <td>4.281728</td>\n",
       "      <td>5878</td>\n",
       "    </tr>\n",
       "    <tr>\n",
       "      <th>cds &amp; vinyl</th>\n",
       "      <td>4.301692</td>\n",
       "      <td>1064</td>\n",
       "    </tr>\n",
       "    <tr>\n",
       "      <th>cell phones &amp; accessories</th>\n",
       "      <td>4.238456</td>\n",
       "      <td>5544</td>\n",
       "    </tr>\n",
       "    <tr>\n",
       "      <th>clothing, shoes &amp; jewelry</th>\n",
       "      <td>4.239511</td>\n",
       "      <td>25907</td>\n",
       "    </tr>\n",
       "    <tr>\n",
       "      <th>collectibles &amp; fine art</th>\n",
       "      <td>4.500000</td>\n",
       "      <td>2</td>\n",
       "    </tr>\n",
       "    <tr>\n",
       "      <th>computers</th>\n",
       "      <td>4.468391</td>\n",
       "      <td>1044</td>\n",
       "    </tr>\n",
       "    <tr>\n",
       "      <th>electronics</th>\n",
       "      <td>4.147323</td>\n",
       "      <td>167550</td>\n",
       "    </tr>\n",
       "    <tr>\n",
       "      <th>grocery &amp; gourmet food</th>\n",
       "      <td>4.172119</td>\n",
       "      <td>4096</td>\n",
       "    </tr>\n",
       "    <tr>\n",
       "      <th>health &amp; personal care</th>\n",
       "      <td>4.114413</td>\n",
       "      <td>5821</td>\n",
       "    </tr>\n",
       "    <tr>\n",
       "      <th>home &amp; kitchen</th>\n",
       "      <td>4.463471</td>\n",
       "      <td>24118</td>\n",
       "    </tr>\n",
       "    <tr>\n",
       "      <th>home improvement</th>\n",
       "      <td>4.500000</td>\n",
       "      <td>2</td>\n",
       "    </tr>\n",
       "    <tr>\n",
       "      <th>industrial &amp; scientific</th>\n",
       "      <td>4.389685</td>\n",
       "      <td>349</td>\n",
       "    </tr>\n",
       "    <tr>\n",
       "      <th>kitchen &amp; dining</th>\n",
       "      <td>4.544153</td>\n",
       "      <td>419</td>\n",
       "    </tr>\n",
       "    <tr>\n",
       "      <th>movies &amp; tv</th>\n",
       "      <td>4.035569</td>\n",
       "      <td>984</td>\n",
       "    </tr>\n",
       "    <tr>\n",
       "      <th>musical instruments</th>\n",
       "      <td>4.219858</td>\n",
       "      <td>141</td>\n",
       "    </tr>\n",
       "    <tr>\n",
       "      <th>office &amp; school supplies</th>\n",
       "      <td>3.111111</td>\n",
       "      <td>9</td>\n",
       "    </tr>\n",
       "    <tr>\n",
       "      <th>office products</th>\n",
       "      <td>4.380833</td>\n",
       "      <td>2400</td>\n",
       "    </tr>\n",
       "    <tr>\n",
       "      <th>patio, lawn &amp; garden</th>\n",
       "      <td>4.111005</td>\n",
       "      <td>4171</td>\n",
       "    </tr>\n",
       "    <tr>\n",
       "      <th>pet supplies</th>\n",
       "      <td>3.907041</td>\n",
       "      <td>1818</td>\n",
       "    </tr>\n",
       "    <tr>\n",
       "      <th>sports &amp; outdoors</th>\n",
       "      <td>4.365588</td>\n",
       "      <td>27955</td>\n",
       "    </tr>\n",
       "    <tr>\n",
       "      <th>tools &amp; home improvement</th>\n",
       "      <td>4.165504</td>\n",
       "      <td>5589</td>\n",
       "    </tr>\n",
       "    <tr>\n",
       "      <th>toys &amp; games</th>\n",
       "      <td>3.909011</td>\n",
       "      <td>1143</td>\n",
       "    </tr>\n",
       "    <tr>\n",
       "      <th>video games</th>\n",
       "      <td>4.070205</td>\n",
       "      <td>10569</td>\n",
       "    </tr>\n",
       "  </tbody>\n",
       "</table>\n",
       "</div>"
      ],
      "text/plain": [
       "                           avg_rating   count\n",
       "category                                     \n",
       "all beauty                   4.600000      10\n",
       "all electronics              4.185185     270\n",
       "amazon fashion               4.376923     130\n",
       "appliances                   4.600000       5\n",
       "arts, crafts & sewing        4.321429     476\n",
       "automotive                   4.020660    4453\n",
       "baby                         4.305796    2312\n",
       "baby products                4.623529     510\n",
       "beauty                       4.281728    5878\n",
       "cds & vinyl                  4.301692    1064\n",
       "cell phones & accessories    4.238456    5544\n",
       "clothing, shoes & jewelry    4.239511   25907\n",
       "collectibles & fine art      4.500000       2\n",
       "computers                    4.468391    1044\n",
       "electronics                  4.147323  167550\n",
       "grocery & gourmet food       4.172119    4096\n",
       "health & personal care       4.114413    5821\n",
       "home & kitchen               4.463471   24118\n",
       "home improvement             4.500000       2\n",
       "industrial & scientific      4.389685     349\n",
       "kitchen & dining             4.544153     419\n",
       "movies & tv                  4.035569     984\n",
       "musical instruments          4.219858     141\n",
       "office & school supplies     3.111111       9\n",
       "office products              4.380833    2400\n",
       "patio, lawn & garden         4.111005    4171\n",
       "pet supplies                 3.907041    1818\n",
       "sports & outdoors            4.365588   27955\n",
       "tools & home improvement     4.165504    5589\n",
       "toys & games                 3.909011    1143\n",
       "video games                  4.070205   10569"
      ]
     },
     "execution_count": 15,
     "metadata": {},
     "output_type": "execute_result"
    }
   ],
   "source": [
    "df_user_review_counts = df.groupby(df.category)\n",
    "counts = df_user_review_counts.count().ix[:,0]\n",
    "\n",
    "categories = pd.DataFrame({'avg_rating': df_user_review_counts.agg({'rating': 'mean'})['rating'], \n",
    "                            'count': counts})\n",
    "categories"
   ]
  },
  {
   "cell_type": "code",
   "execution_count": 16,
   "metadata": {
    "collapsed": false
   },
   "outputs": [
    {
     "data": {
      "image/png": "[encoded data removed]",
      "text/plain": [
       "<matplotlib.figure.Figure at 0x1f45488b550>"
      ]
     },
     "metadata": {},
     "output_type": "display_data"
    }
   ],
   "source": [
    "cats = categories['avg_rating'].sort_values(ascending=True)\n",
    "ax = cats.plot.barh(width=1.0, color = \"#e67e22\", alpha=0.9, figsize=(6, 16))\n",
    "ax.set_title(\"Average Rating Score Given For Amazon Reviews, by Product Category\")\n",
    "ax.set_xlabel(\"Avg. Rating For Reviews Given in Category\")\n",
    "for i in range(0,cats.shape[0]):\n",
    "    height = cats[i]\n",
    "    ax.text(height-1/3, i-1/4,\n",
    "            '%.2f' % height,\n",
    "            ha='center', va='bottom', color = 'white', fontweight='bold', size=16)\n",
    "    "
   ]
  },
  {
   "cell_type": "markdown",
   "metadata": {},
   "source": [
    "## Distribution of ratings"
   ]
  },
  {
   "cell_type": "code",
   "execution_count": 17,
   "metadata": {
    "collapsed": false
   },
   "outputs": [
    {
     "data": {
      "text/html": [
       "<div>\n",
       "<table border=\"1\" class=\"dataframe\">\n",
       "  <thead>\n",
       "    <tr style=\"text-align: right;\">\n",
       "      <th></th>\n",
       "      <th>avg_rating</th>\n",
       "      <th>count_reviews</th>\n",
       "    </tr>\n",
       "    <tr>\n",
       "      <th>user_id</th>\n",
       "      <th></th>\n",
       "      <th></th>\n",
       "    </tr>\n",
       "  </thead>\n",
       "  <tbody>\n",
       "    <tr>\n",
       "      <th>A02444252I8NHTG9BGNBX</th>\n",
       "      <td>3.0</td>\n",
       "      <td>6</td>\n",
       "    </tr>\n",
       "    <tr>\n",
       "      <th>A1000I81ZDTJVE</th>\n",
       "      <td>5.0</td>\n",
       "      <td>6</td>\n",
       "    </tr>\n",
       "    <tr>\n",
       "      <th>A10097311BAFYJXQ2ZA7F</th>\n",
       "      <td>5.0</td>\n",
       "      <td>8</td>\n",
       "    </tr>\n",
       "    <tr>\n",
       "      <th>A100UD67AHFODS</th>\n",
       "      <td>4.3</td>\n",
       "      <td>7</td>\n",
       "    </tr>\n",
       "    <tr>\n",
       "      <th>A1029LADQF0L2O</th>\n",
       "      <td>5.0</td>\n",
       "      <td>6</td>\n",
       "    </tr>\n",
       "  </tbody>\n",
       "</table>\n",
       "</div>"
      ],
      "text/plain": [
       "                       avg_rating  count_reviews\n",
       "user_id                                         \n",
       "A02444252I8NHTG9BGNBX         3.0              6\n",
       "A1000I81ZDTJVE                5.0              6\n",
       "A10097311BAFYJXQ2ZA7F         5.0              8\n",
       "A100UD67AHFODS                4.3              7\n",
       "A1029LADQF0L2O                5.0              6"
      ]
     },
     "execution_count": 17,
     "metadata": {},
     "output_type": "execute_result"
    }
   ],
   "source": [
    "counts = df.groupby(df.user_id).count().ix[:,0]\n",
    "avg_rating = df.groupby(df.user_id).agg({'rating': 'mean'})['rating']\n",
    "\n",
    "users = pd.DataFrame({'avg_rating': avg_rating, \n",
    "                            'count_reviews': counts})\n",
    "users = users[users.count_reviews > 4]\n",
    "users['avg_rating'] = round(users['avg_rating'],1)\n",
    "users.head()"
   ]
  },
  {
   "cell_type": "code",
   "execution_count": 18,
   "metadata": {
    "collapsed": false
   },
   "outputs": [
    {
     "data": {
      "text/html": [
       "<div>\n",
       "<table border=\"1\" class=\"dataframe\">\n",
       "  <thead>\n",
       "    <tr style=\"text-align: right;\">\n",
       "      <th></th>\n",
       "      <th>index</th>\n",
       "      <th>avg_rating</th>\n",
       "    </tr>\n",
       "  </thead>\n",
       "  <tbody>\n",
       "    <tr>\n",
       "      <th>0</th>\n",
       "      <td>1.0</td>\n",
       "      <td>110</td>\n",
       "    </tr>\n",
       "    <tr>\n",
       "      <th>1</th>\n",
       "      <td>1.2</td>\n",
       "      <td>2</td>\n",
       "    </tr>\n",
       "    <tr>\n",
       "      <th>2</th>\n",
       "      <td>1.3</td>\n",
       "      <td>2</td>\n",
       "    </tr>\n",
       "    <tr>\n",
       "      <th>3</th>\n",
       "      <td>1.4</td>\n",
       "      <td>3</td>\n",
       "    </tr>\n",
       "    <tr>\n",
       "      <th>4</th>\n",
       "      <td>1.7</td>\n",
       "      <td>2</td>\n",
       "    </tr>\n",
       "  </tbody>\n",
       "</table>\n",
       "</div>"
      ],
      "text/plain": [
       "   index  avg_rating\n",
       "0    1.0         110\n",
       "1    1.2           2\n",
       "2    1.3           2\n",
       "3    1.4           3\n",
       "4    1.7           2"
      ]
     },
     "execution_count": 18,
     "metadata": {},
     "output_type": "execute_result"
    }
   ],
   "source": [
    "counts = users['avg_rating'].value_counts()\n",
    "counts = pd.DataFrame(counts).sort_index()\n",
    "counts2 = counts.reset_index()\n",
    "counts2.head()"
   ]
  },
  {
   "cell_type": "code",
   "execution_count": 19,
   "metadata": {
    "collapsed": false
   },
   "outputs": [
    {
     "data": {
      "text/plain": [
       "4.4306737588652476"
      ]
     },
     "execution_count": 19,
     "metadata": {},
     "output_type": "execute_result"
    }
   ],
   "source": [
    "av = sum(counts2['index']*counts2['avg_rating'])/ sum(counts2['avg_rating'])\n",
    "av"
   ]
  },
  {
   "cell_type": "code",
   "execution_count": 20,
   "metadata": {
    "collapsed": false
   },
   "outputs": [
    {
     "data": {
      "text/plain": [
       "[<matplotlib.text.Text at 0x1f45487b978>,\n",
       " <matplotlib.text.Text at 0x1f454892828>,\n",
       " <matplotlib.text.Text at 0x1f45593b160>,\n",
       " <matplotlib.text.Text at 0x1f45593bb70>,\n",
       " <matplotlib.text.Text at 0x1f4559415c0>]"
      ]
     },
     "execution_count": 20,
     "metadata": {},
     "output_type": "execute_result"
    },
    {
     "data": {
      "image/png": "[encoded data removed]",
      "text/plain": [
       "<matplotlib.figure.Figure at 0x1f454898780>"
      ]
     },
     "metadata": {},
     "output_type": "display_data"
    }
   ],
   "source": [
    "ax = counts.plot.bar(figsize=(8,5), color ='#2980b9', legend=None)\n",
    "ax.axvline(counts2[counts2['index']==round(av,1)].index, color='k', linestyle='--')\n",
    "ax.set_title(\"Distribution of Average Ratings by User, for Amazon Products\")\n",
    "ax.set_xlabel(\"Average Rating for Amazon Products Given By User (5 Ratings Minimum)\")\n",
    "ax.set_ylabel(\"Count of Users\")\n",
    "ax.set_xticks([0,7,16,26,36])\n",
    "ax.set_xticklabels(['1','2','3','4','5'])"
   ]
  },
  {
   "cell_type": "code",
   "execution_count": 21,
   "metadata": {
    "collapsed": false
   },
   "outputs": [
    {
     "data": {
      "text/html": [
       "<div>\n",
       "<table border=\"1\" class=\"dataframe\">\n",
       "  <thead>\n",
       "    <tr style=\"text-align: right;\">\n",
       "      <th></th>\n",
       "      <th>avg_rating</th>\n",
       "      <th>count_reviews</th>\n",
       "    </tr>\n",
       "    <tr>\n",
       "      <th>item_id</th>\n",
       "      <th></th>\n",
       "      <th></th>\n",
       "    </tr>\n",
       "  </thead>\n",
       "  <tbody>\n",
       "    <tr>\n",
       "      <th>0767821556</th>\n",
       "      <td>4.6</td>\n",
       "      <td>190</td>\n",
       "    </tr>\n",
       "    <tr>\n",
       "      <th>0800121260</th>\n",
       "      <td>4.4</td>\n",
       "      <td>49</td>\n",
       "    </tr>\n",
       "    <tr>\n",
       "      <th>0978571630</th>\n",
       "      <td>4.2</td>\n",
       "      <td>5</td>\n",
       "    </tr>\n",
       "    <tr>\n",
       "      <th>B000002HK4</th>\n",
       "      <td>4.6</td>\n",
       "      <td>98</td>\n",
       "    </tr>\n",
       "    <tr>\n",
       "      <th>B00000JXTC</th>\n",
       "      <td>4.7</td>\n",
       "      <td>7</td>\n",
       "    </tr>\n",
       "  </tbody>\n",
       "</table>\n",
       "</div>"
      ],
      "text/plain": [
       "            avg_rating  count_reviews\n",
       "item_id                              \n",
       "0767821556         4.6            190\n",
       "0800121260         4.4             49\n",
       "0978571630         4.2              5\n",
       "B000002HK4         4.6             98\n",
       "B00000JXTC         4.7              7"
      ]
     },
     "execution_count": 21,
     "metadata": {},
     "output_type": "execute_result"
    }
   ],
   "source": [
    "counts = df.groupby(df.item_id).count().ix[:,0]\n",
    "avg_rating = df.groupby(df.item_id).agg({'rating': 'mean'})['rating']\n",
    "\n",
    "products = pd.DataFrame({'avg_rating': avg_rating, \n",
    "                            'count_reviews': counts})\n",
    "products = products[products.count_reviews > 4]\n",
    "products['avg_rating'] = round(products['avg_rating'],1)\n",
    "products.head()"
   ]
  },
  {
   "cell_type": "code",
   "execution_count": 22,
   "metadata": {
    "collapsed": false
   },
   "outputs": [
    {
     "data": {
      "text/html": [
       "<div>\n",
       "<table border=\"1\" class=\"dataframe\">\n",
       "  <thead>\n",
       "    <tr style=\"text-align: right;\">\n",
       "      <th></th>\n",
       "      <th>index</th>\n",
       "      <th>avg_rating</th>\n",
       "    </tr>\n",
       "  </thead>\n",
       "  <tbody>\n",
       "    <tr>\n",
       "      <th>0</th>\n",
       "      <td>1.1</td>\n",
       "      <td>1</td>\n",
       "    </tr>\n",
       "    <tr>\n",
       "      <th>1</th>\n",
       "      <td>1.2</td>\n",
       "      <td>1</td>\n",
       "    </tr>\n",
       "    <tr>\n",
       "      <th>2</th>\n",
       "      <td>1.3</td>\n",
       "      <td>3</td>\n",
       "    </tr>\n",
       "    <tr>\n",
       "      <th>3</th>\n",
       "      <td>1.4</td>\n",
       "      <td>2</td>\n",
       "    </tr>\n",
       "    <tr>\n",
       "      <th>4</th>\n",
       "      <td>1.5</td>\n",
       "      <td>5</td>\n",
       "    </tr>\n",
       "  </tbody>\n",
       "</table>\n",
       "</div>"
      ],
      "text/plain": [
       "   index  avg_rating\n",
       "0    1.1           1\n",
       "1    1.2           1\n",
       "2    1.3           3\n",
       "3    1.4           2\n",
       "4    1.5           5"
      ]
     },
     "execution_count": 22,
     "metadata": {},
     "output_type": "execute_result"
    }
   ],
   "source": [
    "counts = products['avg_rating'].value_counts()\n",
    "counts = pd.DataFrame(counts).sort_index()\n",
    "counts2 = counts.reset_index()\n",
    "counts2.head()"
   ]
  },
  {
   "cell_type": "code",
   "execution_count": 23,
   "metadata": {
    "collapsed": false
   },
   "outputs": [
    {
     "data": {
      "text/plain": [
       "4.1539145907473314"
      ]
     },
     "execution_count": 23,
     "metadata": {},
     "output_type": "execute_result"
    }
   ],
   "source": [
    "av = sum(counts2['index']*counts2['avg_rating'])/ sum(counts2['avg_rating'])\n",
    "av"
   ]
  },
  {
   "cell_type": "code",
   "execution_count": 24,
   "metadata": {
    "collapsed": false
   },
   "outputs": [
    {
     "data": {
      "text/plain": [
       "[<matplotlib.text.Text at 0x1f458334198>,\n",
       " <matplotlib.text.Text at 0x1f455843b00>,\n",
       " <matplotlib.text.Text at 0x1f455856c18>,\n",
       " <matplotlib.text.Text at 0x1f455948320>,\n",
       " <matplotlib.text.Text at 0x1f4559412b0>]"
      ]
     },
     "execution_count": 24,
     "metadata": {},
     "output_type": "execute_result"
    },
    {
     "data": {
      "image/png": "[encoded data removed]",
      "text/plain": [
       "<matplotlib.figure.Figure at 0x1f4558dc438>"
      ]
     },
     "metadata": {},
     "output_type": "display_data"
    }
   ],
   "source": [
    "ax = counts.plot.bar(figsize=(8,5), color ='#27ae60', legend=None)\n",
    "ax.axvline(counts2[counts2['index']==round(av,1)].index, color='k', linestyle='--')\n",
    "ax.set_title(\"Distribution of Overall Ratings on Amazon Products\")\n",
    "ax.set_xlabel(\"Overall Amazon Product Ratings (5 Ratings Minimum)\")\n",
    "ax.set_ylabel(\"Count of Products\")\n",
    "ax.set_xticks([0,9,19,29,39])\n",
    "ax.set_xticklabels(['1.1','2','3','4','5'])"
   ]
  },
  {
   "cell_type": "code",
   "execution_count": 25,
   "metadata": {
    "collapsed": false
   },
   "outputs": [
    {
     "data": {
      "text/html": [
       "<div>\n",
       "<table border=\"1\" class=\"dataframe\">\n",
       "  <thead>\n",
       "    <tr style=\"text-align: right;\">\n",
       "      <th></th>\n",
       "      <th>rating</th>\n",
       "      <th>user_id</th>\n",
       "      <th>item_id</th>\n",
       "      <th>timestamp</th>\n",
       "      <th>category</th>\n",
       "      <th>nth_product</th>\n",
       "      <th>time</th>\n",
       "    </tr>\n",
       "    <tr>\n",
       "      <th>nth_user</th>\n",
       "      <th></th>\n",
       "      <th></th>\n",
       "      <th></th>\n",
       "      <th></th>\n",
       "      <th></th>\n",
       "      <th></th>\n",
       "      <th></th>\n",
       "    </tr>\n",
       "  </thead>\n",
       "  <tbody>\n",
       "    <tr>\n",
       "      <th>1</th>\n",
       "      <td>1.0</td>\n",
       "      <td>20424</td>\n",
       "      <td>20424</td>\n",
       "      <td>20424</td>\n",
       "      <td>20424</td>\n",
       "      <td>20424</td>\n",
       "      <td>20424</td>\n",
       "    </tr>\n",
       "    <tr>\n",
       "      <th>1</th>\n",
       "      <td>2.0</td>\n",
       "      <td>12364</td>\n",
       "      <td>12364</td>\n",
       "      <td>12364</td>\n",
       "      <td>12364</td>\n",
       "      <td>12364</td>\n",
       "      <td>12364</td>\n",
       "    </tr>\n",
       "    <tr>\n",
       "      <th>1</th>\n",
       "      <td>3.0</td>\n",
       "      <td>17243</td>\n",
       "      <td>17243</td>\n",
       "      <td>17243</td>\n",
       "      <td>17243</td>\n",
       "      <td>17243</td>\n",
       "      <td>17243</td>\n",
       "    </tr>\n",
       "    <tr>\n",
       "      <th>1</th>\n",
       "      <td>4.0</td>\n",
       "      <td>42676</td>\n",
       "      <td>42676</td>\n",
       "      <td>42676</td>\n",
       "      <td>42676</td>\n",
       "      <td>42676</td>\n",
       "      <td>42676</td>\n",
       "    </tr>\n",
       "    <tr>\n",
       "      <th>1</th>\n",
       "      <td>5.0</td>\n",
       "      <td>141538</td>\n",
       "      <td>141538</td>\n",
       "      <td>141538</td>\n",
       "      <td>141538</td>\n",
       "      <td>141538</td>\n",
       "      <td>141538</td>\n",
       "    </tr>\n",
       "  </tbody>\n",
       "</table>\n",
       "</div>"
      ],
      "text/plain": [
       "          rating  user_id  item_id  timestamp  category  nth_product    time\n",
       "nth_user                                                                    \n",
       "1            1.0    20424    20424      20424     20424        20424   20424\n",
       "1            2.0    12364    12364      12364     12364        12364   12364\n",
       "1            3.0    17243    17243      17243     17243        17243   17243\n",
       "1            4.0    42676    42676      42676     42676        42676   42676\n",
       "1            5.0   141538   141538     141538    141538       141538  141538"
      ]
     },
     "execution_count": 25,
     "metadata": {},
     "output_type": "execute_result"
    }
   ],
   "source": [
    "df_breakdown_users =df[df.nth_user <= 50].groupby(['nth_user', 'rating']).count()\n",
    "df_breakdown_users = df_breakdown_users.reset_index(level=1)\n",
    "df_breakdown_users.head()"
   ]
  },
  {
   "cell_type": "code",
   "execution_count": 26,
   "metadata": {
    "collapsed": false
   },
   "outputs": [
    {
     "data": {
      "text/html": [
       "<div>\n",
       "<table border=\"1\" class=\"dataframe\">\n",
       "  <thead>\n",
       "    <tr style=\"text-align: right;\">\n",
       "      <th></th>\n",
       "      <th>rating_5</th>\n",
       "      <th>rating_4</th>\n",
       "      <th>rating_3</th>\n",
       "      <th>rating_2</th>\n",
       "      <th>rating_1</th>\n",
       "    </tr>\n",
       "  </thead>\n",
       "  <tbody>\n",
       "    <tr>\n",
       "      <th>1</th>\n",
       "      <td>0.604231</td>\n",
       "      <td>0.182185</td>\n",
       "      <td>0.073611</td>\n",
       "      <td>0.052782</td>\n",
       "      <td>0.087191</td>\n",
       "    </tr>\n",
       "    <tr>\n",
       "      <th>2</th>\n",
       "      <td>0.634166</td>\n",
       "      <td>0.186296</td>\n",
       "      <td>0.072766</td>\n",
       "      <td>0.048297</td>\n",
       "      <td>0.058475</td>\n",
       "    </tr>\n",
       "    <tr>\n",
       "      <th>3</th>\n",
       "      <td>0.654590</td>\n",
       "      <td>0.187757</td>\n",
       "      <td>0.065025</td>\n",
       "      <td>0.045511</td>\n",
       "      <td>0.047118</td>\n",
       "    </tr>\n",
       "    <tr>\n",
       "      <th>4</th>\n",
       "      <td>0.670615</td>\n",
       "      <td>0.186507</td>\n",
       "      <td>0.068477</td>\n",
       "      <td>0.037995</td>\n",
       "      <td>0.036406</td>\n",
       "    </tr>\n",
       "    <tr>\n",
       "      <th>5</th>\n",
       "      <td>0.675532</td>\n",
       "      <td>0.186930</td>\n",
       "      <td>0.066363</td>\n",
       "      <td>0.031915</td>\n",
       "      <td>0.039260</td>\n",
       "    </tr>\n",
       "  </tbody>\n",
       "</table>\n",
       "</div>"
      ],
      "text/plain": [
       "   rating_5  rating_4  rating_3  rating_2  rating_1\n",
       "1  0.604231  0.182185  0.073611  0.052782  0.087191\n",
       "2  0.634166  0.186296  0.072766  0.048297  0.058475\n",
       "3  0.654590  0.187757  0.065025  0.045511  0.047118\n",
       "4  0.670615  0.186507  0.068477  0.037995  0.036406\n",
       "5  0.675532  0.186930  0.066363  0.031915  0.039260"
      ]
     },
     "execution_count": 26,
     "metadata": {},
     "output_type": "execute_result"
    }
   ],
   "source": [
    "s = 0\n",
    "df2 = pd.DataFrame({'rating_5':[], 'rating_4':[], 'rating_3':[], 'rating_2':[], 'rating_1':[]})\n",
    "for i in range(1,51):\n",
    "    s = sum(df_breakdown_users[df_breakdown_users.index == i]['user_id'])\n",
    "    df2 = df2.append(pd.DataFrame({'rating_5':[0],\n",
    "                                       'rating_4':[0],\n",
    "                                       'rating_3':[0],\n",
    "                                       'rating_2':[0],\n",
    "                                       'rating_1':[0]},\n",
    "                    index = [i]))\n",
    "    for j in range(1,6):\n",
    "        result = df_breakdown_users[(df_breakdown_users.index == i) & (df_breakdown_users.rating == j*1.0)]\n",
    "        if not result.empty:\n",
    "            df2.set_value(i,'rating_'+str(j), result.user_id/s)\n",
    "\n",
    "df2 = df2[[\"rating_5\",\"rating_4\",\"rating_3\",\"rating_2\",\"rating_1\"]]\n",
    "df2.head()"
   ]
  },
  {
   "cell_type": "code",
   "execution_count": 27,
   "metadata": {
    "collapsed": false
   },
   "outputs": [
    {
     "data": {
      "text/plain": [
       "(0, 1)"
      ]
     },
     "execution_count": 27,
     "metadata": {},
     "output_type": "execute_result"
    },
    {
     "data": {
      "image/png": "[encoded data removed]",
      "text/plain": [
       "<matplotlib.figure.Figure at 0x1f45834f278>"
      ]
     },
     "metadata": {},
     "output_type": "display_data"
    }
   ],
   "source": [
    "ax = df2.plot.bar(stacked=True, color = ['#003a09', '#049104', '#d36743', '#dd310f', '#870202'], width = 0.9)\n",
    "ax.set_xticks([10,20,30,40,50])\n",
    "ax.set_xticklabels(['10','20','30','40','50'])\n",
    "ax.set_title(\"Breakdown of Amazon Ratings Given by Users, by n-th Rating Given\\n\\n\")\n",
    "ax.set_xlabel(\"n-th Rating Given by User\")\n",
    "ax.set_ylabel(\"Proportion\")\n",
    "ax.legend(bbox_to_anchor=(0., 1.02, 1., .102), loc=3,\n",
    "           ncol=5, mode=\"expand\", borderaxespad=0.)\n",
    "ax.set_ylim((0,1))"
   ]
  },
  {
   "cell_type": "code",
   "execution_count": 28,
   "metadata": {
    "collapsed": false
   },
   "outputs": [
    {
     "data": {
      "text/html": [
       "<div>\n",
       "<table border=\"1\" class=\"dataframe\">\n",
       "  <thead>\n",
       "    <tr style=\"text-align: right;\">\n",
       "      <th></th>\n",
       "      <th>rating</th>\n",
       "      <th>user_id</th>\n",
       "      <th>item_id</th>\n",
       "      <th>timestamp</th>\n",
       "      <th>category</th>\n",
       "      <th>nth_user</th>\n",
       "      <th>time</th>\n",
       "    </tr>\n",
       "    <tr>\n",
       "      <th>nth_product</th>\n",
       "      <th></th>\n",
       "      <th></th>\n",
       "      <th></th>\n",
       "      <th></th>\n",
       "      <th></th>\n",
       "      <th></th>\n",
       "      <th></th>\n",
       "    </tr>\n",
       "  </thead>\n",
       "  <tbody>\n",
       "    <tr>\n",
       "      <th>1</th>\n",
       "      <td>1.0</td>\n",
       "      <td>789</td>\n",
       "      <td>789</td>\n",
       "      <td>789</td>\n",
       "      <td>789</td>\n",
       "      <td>789</td>\n",
       "      <td>789</td>\n",
       "    </tr>\n",
       "    <tr>\n",
       "      <th>1</th>\n",
       "      <td>2.0</td>\n",
       "      <td>464</td>\n",
       "      <td>464</td>\n",
       "      <td>464</td>\n",
       "      <td>464</td>\n",
       "      <td>464</td>\n",
       "      <td>464</td>\n",
       "    </tr>\n",
       "    <tr>\n",
       "      <th>1</th>\n",
       "      <td>3.0</td>\n",
       "      <td>701</td>\n",
       "      <td>701</td>\n",
       "      <td>701</td>\n",
       "      <td>701</td>\n",
       "      <td>701</td>\n",
       "      <td>701</td>\n",
       "    </tr>\n",
       "    <tr>\n",
       "      <th>1</th>\n",
       "      <td>4.0</td>\n",
       "      <td>1727</td>\n",
       "      <td>1727</td>\n",
       "      <td>1727</td>\n",
       "      <td>1727</td>\n",
       "      <td>1727</td>\n",
       "      <td>1727</td>\n",
       "    </tr>\n",
       "    <tr>\n",
       "      <th>1</th>\n",
       "      <td>5.0</td>\n",
       "      <td>6321</td>\n",
       "      <td>6321</td>\n",
       "      <td>6321</td>\n",
       "      <td>6321</td>\n",
       "      <td>6321</td>\n",
       "      <td>6321</td>\n",
       "    </tr>\n",
       "  </tbody>\n",
       "</table>\n",
       "</div>"
      ],
      "text/plain": [
       "             rating  user_id  item_id  timestamp  category  nth_user  time\n",
       "nth_product                                                               \n",
       "1               1.0      789      789        789       789       789   789\n",
       "1               2.0      464      464        464       464       464   464\n",
       "1               3.0      701      701        701       701       701   701\n",
       "1               4.0     1727     1727       1727      1727      1727  1727\n",
       "1               5.0     6321     6321       6321      6321      6321  6321"
      ]
     },
     "execution_count": 28,
     "metadata": {},
     "output_type": "execute_result"
    }
   ],
   "source": [
    "df_breakdown_users =df[df.nth_product <= 50].groupby(['nth_product', 'rating']).count()\n",
    "df_breakdown_users = df_breakdown_users.reset_index(level=1)\n",
    "df_breakdown_users.head()"
   ]
  },
  {
   "cell_type": "code",
   "execution_count": 29,
   "metadata": {
    "collapsed": false
   },
   "outputs": [
    {
     "data": {
      "text/html": [
       "<div>\n",
       "<table border=\"1\" class=\"dataframe\">\n",
       "  <thead>\n",
       "    <tr style=\"text-align: right;\">\n",
       "      <th></th>\n",
       "      <th>rating_5</th>\n",
       "      <th>rating_4</th>\n",
       "      <th>rating_3</th>\n",
       "      <th>rating_2</th>\n",
       "      <th>rating_1</th>\n",
       "    </tr>\n",
       "  </thead>\n",
       "  <tbody>\n",
       "    <tr>\n",
       "      <th>1</th>\n",
       "      <td>0.631974</td>\n",
       "      <td>0.172665</td>\n",
       "      <td>0.070086</td>\n",
       "      <td>0.046391</td>\n",
       "      <td>0.078884</td>\n",
       "    </tr>\n",
       "    <tr>\n",
       "      <th>2</th>\n",
       "      <td>0.624350</td>\n",
       "      <td>0.163488</td>\n",
       "      <td>0.073610</td>\n",
       "      <td>0.045873</td>\n",
       "      <td>0.092679</td>\n",
       "    </tr>\n",
       "    <tr>\n",
       "      <th>3</th>\n",
       "      <td>0.620043</td>\n",
       "      <td>0.159615</td>\n",
       "      <td>0.078314</td>\n",
       "      <td>0.054920</td>\n",
       "      <td>0.087108</td>\n",
       "    </tr>\n",
       "    <tr>\n",
       "      <th>4</th>\n",
       "      <td>0.610354</td>\n",
       "      <td>0.179447</td>\n",
       "      <td>0.073180</td>\n",
       "      <td>0.047489</td>\n",
       "      <td>0.089529</td>\n",
       "    </tr>\n",
       "    <tr>\n",
       "      <th>5</th>\n",
       "      <td>0.616103</td>\n",
       "      <td>0.181050</td>\n",
       "      <td>0.068060</td>\n",
       "      <td>0.043817</td>\n",
       "      <td>0.090970</td>\n",
       "    </tr>\n",
       "  </tbody>\n",
       "</table>\n",
       "</div>"
      ],
      "text/plain": [
       "   rating_5  rating_4  rating_3  rating_2  rating_1\n",
       "1  0.631974  0.172665  0.070086  0.046391  0.078884\n",
       "2  0.624350  0.163488  0.073610  0.045873  0.092679\n",
       "3  0.620043  0.159615  0.078314  0.054920  0.087108\n",
       "4  0.610354  0.179447  0.073180  0.047489  0.089529\n",
       "5  0.616103  0.181050  0.068060  0.043817  0.090970"
      ]
     },
     "execution_count": 29,
     "metadata": {},
     "output_type": "execute_result"
    }
   ],
   "source": [
    "s = 0\n",
    "df2 = pd.DataFrame({'rating_5':[], 'rating_4':[], 'rating_3':[], 'rating_2':[], 'rating_1':[]})\n",
    "for i in range(1,51):\n",
    "    s = sum(df_breakdown_users[df_breakdown_users.index == i]['item_id'])\n",
    "    df2 = df2.append(pd.DataFrame({'rating_5':[0],\n",
    "                                       'rating_4':[0],\n",
    "                                       'rating_3':[0],\n",
    "                                       'rating_2':[0],\n",
    "                                       'rating_1':[0]},\n",
    "                    index = [i]))\n",
    "    for j in range(1,6):\n",
    "        result = df_breakdown_users[(df_breakdown_users.index == i) & (df_breakdown_users.rating == j*1.0)]\n",
    "        if not result.empty:\n",
    "            df2.set_value(i,'rating_'+str(j), result.user_id/s)\n",
    "\n",
    "df2 = df2[[\"rating_5\",\"rating_4\",\"rating_3\",\"rating_2\",\"rating_1\"]]\n",
    "df2.head()"
   ]
  },
  {
   "cell_type": "code",
   "execution_count": 30,
   "metadata": {
    "collapsed": false
   },
   "outputs": [
    {
     "data": {
      "text/plain": [
       "(0, 1)"
      ]
     },
     "execution_count": 30,
     "metadata": {},
     "output_type": "execute_result"
    },
    {
     "data": {
      "image/png": "[encoded data removed]",
      "text/plain": [
       "<matplotlib.figure.Figure at 0x1f457d4d630>"
      ]
     },
     "metadata": {},
     "output_type": "display_data"
    }
   ],
   "source": [
    "ax = df2.plot.bar(stacked=True, color = ['#003a09', '#049104', '#d36743', '#dd310f', '#870202'], width = 0.9)\n",
    "ax.set_xticks([10,20,30,40,50])\n",
    "ax.set_xticklabels(['10','20','30','40','50'])\n",
    "ax.set_title(\"Breakdown of Ratings for Amazon Products by n-th Item Rating Given\\n\\n\")\n",
    "ax.set_xlabel(\"n-th Review for Item Given\")\n",
    "ax.set_ylabel(\"Proportion\")\n",
    "ax.legend(bbox_to_anchor=(0., 1.02, 1., .102), loc=3,\n",
    "           ncol=5, mode=\"expand\", borderaxespad=0.)\n",
    "ax.set_ylim((0,1))"
   ]
  },
  {
   "cell_type": "code",
   "execution_count": null,
   "metadata": {
    "collapsed": true
   },
   "outputs": [],
   "source": []
  }
 ],
 "metadata": {
  "anaconda-cloud": {},
  "kernelspec": {
   "display_name": "Python [Root]",
   "language": "python",
   "name": "Python [Root]"
  },
  "language_info": {
   "codemirror_mode": {
    "name": "ipython",
    "version": 3
   },
   "file_extension": ".py",
   "mimetype": "text/x-python",
   "name": "python",
   "nbconvert_exporter": "python",
   "pygments_lexer": "ipython3",
   "version": "3.5.2"
  }
 },
 "nbformat": 4,
 "nbformat_minor": 1
}
